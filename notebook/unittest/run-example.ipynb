{
 "cells": [
  {
   "cell_type": "markdown",
   "metadata": {
    "toc": true
   },
   "source": [
    "<h1>Table of Contents<span class=\"tocSkip\"></span></h1>\n",
    "<div class=\"toc\"><ul class=\"toc-item\"><li><span><a href=\"#TL;DR\" data-toc-modified-id=\"TL;DR-1\"><span class=\"toc-item-num\">1&nbsp;&nbsp;</span>TL;DR</a></span></li><li><span><a href=\"#Import-libs\" data-toc-modified-id=\"Import-libs-2\"><span class=\"toc-item-num\">2&nbsp;&nbsp;</span>Import libs</a></span></li><li><span><a href=\"#Run\" data-toc-modified-id=\"Run-3\"><span class=\"toc-item-num\">3&nbsp;&nbsp;</span>Run</a></span></li></ul></div>"
   ]
  },
  {
   "cell_type": "markdown",
   "metadata": {},
   "source": [
    "# TL;DR\n",
    "\n",
    "This notebook is used to do a unit test on a single server machine (kvmp-3).\n",
    "\n",
    "Network topology setup as defined in `config/cluster/unittest-1.json`:\n",
    "- 1 client VM\n",
    "- 1 edge router VM\n",
    "- 1 load balancer VM\n",
    "- 4 application server VMs with different capacities\n",
    "- Wikipedia trace hour 0"
   ]
  },
  {
   "cell_type": "markdown",
   "metadata": {},
   "source": [
    "# Import libs"
   ]
  },
  {
   "cell_type": "code",
   "execution_count": 1,
   "metadata": {},
   "outputs": [],
   "source": [
    "import sys\n",
    "import os\n",
    "utils_dir = '../../src/utils'\n",
    "sys.path.insert(0, utils_dir) # add utils dir to path\n",
    "import testbed_utils as tu\n",
    "import time"
   ]
  },
  {
   "cell_type": "markdown",
   "metadata": {},
   "source": [
    "# Run"
   ]
  },
  {
   "cell_type": "code",
   "execution_count": 2,
   "metadata": {},
   "outputs": [],
   "source": [
    "# initialize params\n",
    "config = 'unittest'\n",
    "method = 'aqualb'\n",
    "trace = 'wiki'\n",
    "sample = 'hour0.csv'\n",
    "ep = 0\n",
    "experiment = 'unittest'\n",
    "clip_n = 4000\n",
    "task_name, task_dir, nodes = tu.init_task_info(\n",
    "    experiment=experiment,\n",
    "    lb_method=method,\n",
    "    trace=trace,\n",
    "    sample=sample,\n",
    "    cluster_config='{}-1.json'.format(config),\n",
    "    alias=config,\n",
    ")"
   ]
  },
  {
   "cell_type": "code",
   "execution_count": 3,
   "metadata": {},
   "outputs": [
    {
     "name": "stdout",
     "output_type": "stream",
     "text": [
      "node_client_0 ready: ssh -p 8800 cisco@localhost\n",
      "node_edge_0 ready: ssh -p 8850 cisco@localhost\n",
      "node_lb_0 ready: ssh -p 8900 cisco@localhost\n",
      "node_server_0 ready: ssh -p 9000 cisco@localhost\n",
      "node_server_1 ready: ssh -p 9001 cisco@localhost\n",
      "node_server_2 ready: ssh -p 9002 cisco@localhost\n",
      "node_server_3 ready: ssh -p 9003 cisco@localhost\n"
     ]
    }
   ],
   "source": [
    "# run all VMs on kvmp-3 locally\n",
    "tu.prepare_img(lb_method=method, from_orig=None, debug_node=False)\n",
    "tu.runall()"
   ]
  },
  {
   "cell_type": "code",
   "execution_count": 4,
   "metadata": {},
   "outputs": [
    {
     "name": "stdout",
     "output_type": "stream",
     "text": [
      "LB Node 0: pass\n"
     ]
    }
   ],
   "source": [
    "# check management channel between LBs and servers\n",
    "time.sleep(5)\n",
    "net_ok = False\n",
    "while not net_ok:\n",
    "    try:\n",
    "        tu.gt_socket_check()\n",
    "        net_ok = True\n",
    "    except:\n",
    "        print('error')\n",
    "        time.sleep(1)"
   ]
  },
  {
   "cell_type": "code",
   "execution_count": 5,
   "metadata": {},
   "outputs": [],
   "source": [
    "# start processor agents on LBs\n",
    "for lb in tu.NODES['lb']:\n",
    "    lb.run_init_bg()"
   ]
  },
  {
   "cell_type": "code",
   "execution_count": 6,
   "metadata": {},
   "outputs": [
    {
     "name": "stdout",
     "output_type": "stream",
     "text": [
      ">> prepare trace sample: /home/yzy/aquarius/data/trace/wiki/hour0.csv\n"
     ]
    }
   ],
   "source": [
    "# prepare network trace\n",
    "tu.prepare_trace_sample(trace, sample, clip_n=clip_n)"
   ]
  },
  {
   "cell_type": "code",
   "execution_count": 7,
   "metadata": {},
   "outputs": [
    {
     "name": "stdout",
     "output_type": "stream",
     "text": [
      "total time: 8.445s\n"
     ]
    }
   ],
   "source": [
    "# run traffic\n",
    "t0 = time.time()\n",
    "tu.NODES['clt'][0].start_traffic()\n",
    "print(\"total time: {:.3f}s\".format(time.time()-t0))"
   ]
  },
  {
   "cell_type": "code",
   "execution_count": 8,
   "metadata": {},
   "outputs": [],
   "source": [
    "# fetch log results from LBs and application servers\n",
    "for lb in tu.NODES['lb']:\n",
    "    lb.fetch_result(task_dir, ep)"
   ]
  },
  {
   "cell_type": "code",
   "execution_count": 9,
   "metadata": {},
   "outputs": [],
   "source": [
    "tu.NODES['clt'][0].fetch_result(task_dir, ep)"
   ]
  },
  {
   "cell_type": "code",
   "execution_count": 10,
   "metadata": {},
   "outputs": [],
   "source": [
    "# shutdown VMs on kvmp-3 locally\n",
    "tu.shutall()"
   ]
  }
 ],
 "metadata": {
  "kernelspec": {
   "display_name": "Python3 (lb)",
   "language": "python",
   "name": "lb"
  },
  "language_info": {
   "codemirror_mode": {
    "name": "ipython",
    "version": 3
   },
   "file_extension": ".py",
   "mimetype": "text/x-python",
   "name": "python",
   "nbconvert_exporter": "python",
   "pygments_lexer": "ipython3",
   "version": "3.7.4"
  },
  "latex_envs": {
   "LaTeX_envs_menu_present": true,
   "autoclose": true,
   "autocomplete": true,
   "bibliofile": "biblio.bib",
   "cite_by": "apalike",
   "current_citInitial": 1,
   "eqLabelWithNumbers": true,
   "eqNumInitial": 1,
   "hotkeys": {
    "equation": "Ctrl-E",
    "itemize": "Ctrl-I"
   },
   "labels_anchors": false,
   "latex_user_defs": false,
   "report_style_numbering": false,
   "user_envs_cfg": false
  },
  "toc": {
   "base_numbering": 1,
   "nav_menu": {},
   "number_sections": true,
   "sideBar": true,
   "skip_h1_title": false,
   "title_cell": "Table of Contents",
   "title_sidebar": "Contents",
   "toc_cell": true,
   "toc_position": {
    "height": "calc(100% - 180px)",
    "left": "10px",
    "top": "150px",
    "width": "275.646px"
   },
   "toc_section_display": true,
   "toc_window_display": true
  }
 },
 "nbformat": 4,
 "nbformat_minor": 2
}
