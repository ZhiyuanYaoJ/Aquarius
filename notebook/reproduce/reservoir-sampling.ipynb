{
 "cells": [
  {
   "cell_type": "markdown",
   "metadata": {
    "toc": true
   },
   "source": [
    "<h1>Table of Contents<span class=\"tocSkip\"></span></h1>\n",
    "<div class=\"toc\"><ul class=\"toc-item\"><li><span><a href=\"#Reservoir-Sampling\" data-toc-modified-id=\"Reservoir-Sampling-1\"><span class=\"toc-item-num\">1&nbsp;&nbsp;</span>Reservoir Sampling</a></span></li><li><span><a href=\"#Features-(TBD)\" data-toc-modified-id=\"Features-(TBD)-2\"><span class=\"toc-item-num\">2&nbsp;&nbsp;</span>Features (TBD)</a></span></li></ul></div>"
   ]
  },
  {
   "cell_type": "markdown",
   "metadata": {},
   "source": [
    "# Reservoir Sampling\n",
    "\n",
    "Reservoir sampling is a statistical mechanism that helps gather a respresentative group of samples in buffer from a stream in an efficient way. Normally, it is used with adaptive probability so that samples from the whole stream can be captured in the buffer, so that a sketch of the whole stream can be drawn with integrity. An example is shown below, when the buffer size is _1_, only _1_ sample can be stored. When the first sample arrives, we store it with probability $p=1$. When the second sample arrives, we store it with probability $p=\\frac{1}{2}$, and so on and so forth for the following samples. The goal is to make all elements have equal proability to be stored in the buffer.\n",
    "![Adaptive Probability](https://florian.github.io/assets/posts/reservoir-sampling/adapting-probabilities.png)\n",
    "\n",
    "However, in our load balancing problem which is dynamic and time-variant, what is more important is the more recent samples, instead of the whole stream. Therefore, it is more favorable to take a constant probability to store a newly arrived sample into the buffer so as to have an exponential distribution of \"keep_probability\" for each bin in the buffer.\n",
    "\n",
    "Imagine we have a Poisson traffic stream with $\\lambda$ as traffic rate. Denote $p$ as the probability of keeping a newly arrived element in the buffer (if the bin is already taken, then replace the previous sample stored in the bin). The size of buffer (total number of bins) is $k$. Then the expectation of number of events preserved in buffer after $n$ time intervals:\n",
    "\n",
    "$E = \\lambda p \\left(\\frac{k - p}{k}\\right)^{\\lambda n}$.\n",
    "\n",
    "To give a clearer demonstration, we run the following simulation."
   ]
  },
  {
   "cell_type": "code",
   "execution_count": 14,
   "metadata": {},
   "outputs": [],
   "source": [
    "import math\n",
    "import numpy as np\n",
    "import random\n",
    "import pandas as pd\n",
    "import matplotlib.pyplot as plt\n",
    "\n",
    "def nextTime(rateParameter):\n",
    "    return -math.log(1.0 - random.random()) / rateParameter\n",
    "\n",
    "def gen_poisson_traffic(query_rate=1., rate_base=40, dummy_n=100000, n_queries=80000, t_len=None, dummy_n_list=None, verbose=False):\n",
    "    query_rate = rate_base * query_rate\n",
    "    t_query = []\n",
    "    url_query = []\n",
    "    _t = 0.1\n",
    "    cnt = 0\n",
    "    if dummy_n_list is not None:\n",
    "        for _, i in enumerate(dummy_n_list):\n",
    "            _t += nextTime(query_rate)\n",
    "            t_query.append(_t)\n",
    "            url_query.append('/dummy.php/?n={}'.format(i))\n",
    "            if _ % 1e5 == 0 and verbose:\n",
    "                print(\"{}/{} - {:.2%}\".format(_+1, len(dummy_n_list), (_+1)/len(dummy_n_list)))\n",
    "        print(\"ETA: {}\".format(_t))\n",
    "    elif t_len is not None:\n",
    "        while _t < t_len:\n",
    "            _t += nextTime(query_rate)\n",
    "            t_query.append(_t)\n",
    "            url_query.append('/dummy.php/?n={}'.format(int(np.random.exponential(dummy_n))))\n",
    "            cnt += 1\n",
    "            if int(cnt) % 1e5 == 0 and verbose:\n",
    "                print(\"{}/{} - {:.2%}\".format(int(_t), int(t_len), int(_t)/int(t_len)))\n",
    "        print(\"Number of queries: {}\".format(cnt))\n",
    "    else:\n",
    "        while cnt < n_queries:\n",
    "            _t += nextTime(query_rate)\n",
    "            t_query.append(_t)\n",
    "            url_query.append('/dummy.php/?n={}'.format(int(np.random.exponential(dummy_n))))\n",
    "            cnt += 1\n",
    "            if cnt % 1e5 == 0 and verbose:\n",
    "                print(\"{}/{} - {:.2%}\".format(cnt, n_queries, cnt/n_queries))\n",
    "        print(\"ETA: {}\".format(_t))\n",
    "    \n",
    "    df = pd.DataFrame(t_query, columns=['time'])\n",
    "    df['query'] = url_query\n",
    "    return df"
   ]
  },
  {
   "cell_type": "code",
   "execution_count": null,
   "metadata": {},
   "outputs": [],
   "source": [
    "_lambda = 80 # event rate\n",
    "_p = 0.05 # keep prob\n",
    "_k = int(1e4) # buffer size\n",
    "_n = int(1e5) # number of time intervals\n",
    "df = gen_poisson_traffic(rate_base=_lambda, t_len=_n)"
   ]
  },
  {
   "cell_type": "code",
   "execution_count": 7,
   "metadata": {},
   "outputs": [
    {
     "data": {
      "text/html": [
       "<div>\n",
       "<style scoped>\n",
       "    .dataframe tbody tr th:only-of-type {\n",
       "        vertical-align: middle;\n",
       "    }\n",
       "\n",
       "    .dataframe tbody tr th {\n",
       "        vertical-align: top;\n",
       "    }\n",
       "\n",
       "    .dataframe thead th {\n",
       "        text-align: right;\n",
       "    }\n",
       "</style>\n",
       "<table border=\"1\" class=\"dataframe\">\n",
       "  <thead>\n",
       "    <tr style=\"text-align: right;\">\n",
       "      <th></th>\n",
       "      <th>time</th>\n",
       "      <th>query</th>\n",
       "    </tr>\n",
       "  </thead>\n",
       "  <tbody>\n",
       "    <tr>\n",
       "      <th>0</th>\n",
       "      <td>0.121088</td>\n",
       "      <td>/dummy.php/?n=185748</td>\n",
       "    </tr>\n",
       "    <tr>\n",
       "      <th>1</th>\n",
       "      <td>0.128092</td>\n",
       "      <td>/dummy.php/?n=315550</td>\n",
       "    </tr>\n",
       "    <tr>\n",
       "      <th>2</th>\n",
       "      <td>0.134400</td>\n",
       "      <td>/dummy.php/?n=33150</td>\n",
       "    </tr>\n",
       "    <tr>\n",
       "      <th>3</th>\n",
       "      <td>0.137571</td>\n",
       "      <td>/dummy.php/?n=19851</td>\n",
       "    </tr>\n",
       "    <tr>\n",
       "      <th>4</th>\n",
       "      <td>0.156077</td>\n",
       "      <td>/dummy.php/?n=57029</td>\n",
       "    </tr>\n",
       "  </tbody>\n",
       "</table>\n",
       "</div>"
      ],
      "text/plain": [
       "       time                 query\n",
       "0  0.121088  /dummy.php/?n=185748\n",
       "1  0.128092  /dummy.php/?n=315550\n",
       "2  0.134400   /dummy.php/?n=33150\n",
       "3  0.137571   /dummy.php/?n=19851\n",
       "4  0.156077   /dummy.php/?n=57029"
      ]
     },
     "execution_count": 7,
     "metadata": {},
     "output_type": "execute_result"
    }
   ],
   "source": [
    "df.head()"
   ]
  },
  {
   "cell_type": "code",
   "execution_count": 8,
   "metadata": {},
   "outputs": [],
   "source": [
    "def reservoir(df, keep_prob, buffer_size, verbose=False, use_int=False, int_range=65536):\n",
    "    if verbose:\n",
    "        start = time.time()\n",
    "    df = df.reset_index(drop=True) # in case we have messy index column in df\n",
    "    arr = list(range(buffer_size)) # buffer of indexes\n",
    "    N = len(df) # total amount of sequences\n",
    "    if use_int: # the case in VPP\n",
    "        thres = int(keep_prob * int_range)\n",
    "\n",
    "    for i in range(buffer_size, N):\n",
    "        if use_int:\n",
    "            r = random.randint(0, int_range)\n",
    "            if r < thres:\n",
    "                arr[r%buffer_size] = i        \n",
    "        else:\n",
    "            r = random.uniform(0, 1)\n",
    "            if r < keep_prob:\n",
    "                arr[random.randint(0, buffer_size-1)] = i\n",
    "        if i % int(1e5) == 0 and verbose:\n",
    "            print(\"{}/{} - {:.3%}\".format(i+1, N, (i+1)/N), end='\\r')\n",
    "    if verbose:\n",
    "        print(\"\\n>> time {:.3f}s\".format(time.time() - start))\n",
    "    return df.iloc[arr].reset_index(drop=True)"
   ]
  },
  {
   "cell_type": "code",
   "execution_count": 9,
   "metadata": {},
   "outputs": [],
   "source": [
    "# generate reservoir samples\n",
    "df_reservoir = reservoir(df, _p, int(_k))"
   ]
  },
  {
   "cell_type": "code",
   "execution_count": 11,
   "metadata": {},
   "outputs": [],
   "source": [
    "bin_step = 10\n",
    "bins = np.linspace(0, _n, int(_n/bin_step)) # create a set of bins to store samples in a given time interval\n",
    "ss = np.searchsorted(bins, df_reservoir.time.values) # sort according to their timestamps"
   ]
  },
  {
   "cell_type": "code",
   "execution_count": 17,
   "metadata": {},
   "outputs": [
    {
     "data": {
      "image/png": "[encoded data removed]",
      "text/plain": [
       "<Figure size 1080x288 with 1 Axes>"
      ]
     },
     "metadata": {
      "needs_background": "light"
     },
     "output_type": "display_data"
    }
   ],
   "source": [
    "plt.figure(figsize=(15, 4))\n",
    "bc = np.bincount(ss)[1:]/bin_step\n",
    "plt.plot(bc, label='Stored Samples', alpha=0.5)\n",
    "# fit curve\n",
    "def fit_func(x, a, b, c):\n",
    "    return a*b*np.power(c, a*x)\n",
    "\n",
    "# params = curve_fit(fit_func, np.linspace(0, 1, _n), bc, p0=(_lambda, _p, (_k - _p)/_k))\n",
    "# a, b, c = params[0]\n",
    "# plt.plot([fit_func(i, a, b, c) for i in range(98000, _n)], label='fit')\n",
    "\n",
    "arr = np.array([_lambda * _p * np.power((_k - _p)/_k, _lambda * (_n-i)) for i in bins])\n",
    "plt.plot(arr, label='Theoretical Distribution')\n",
    "plt.xlabel(\"Sample's Timestamps (ms)\")\n",
    "plt.ylabel(\"Number of packets buffered\")\n",
    "plt.title(\"Data Freshness\")\n",
    "plt.legend()\n",
    "plt.grid()\n",
    "plt.show()"
   ]
  },
  {
   "cell_type": "markdown",
   "metadata": {},
   "source": [
    "As is shown above, this method helps us gather more recent observations, based on which features that reflect latest states can be generated."
   ]
  }
 ],
 "metadata": {
  "kernelspec": {
   "display_name": "Python 3",
   "language": "python",
   "name": "python3"
  },
  "language_info": {
   "codemirror_mode": {
    "name": "ipython",
    "version": 3
   },
   "file_extension": ".py",
   "mimetype": "text/x-python",
   "name": "python",
   "nbconvert_exporter": "python",
   "pygments_lexer": "ipython3",
   "version": "3.7.4"
  },
  "latex_envs": {
   "LaTeX_envs_menu_present": true,
   "autoclose": true,
   "autocomplete": true,
   "bibliofile": "biblio.bib",
   "cite_by": "apalike",
   "current_citInitial": 1,
   "eqLabelWithNumbers": true,
   "eqNumInitial": 1,
   "hotkeys": {
    "equation": "Ctrl-E",
    "itemize": "Ctrl-I"
   },
   "labels_anchors": false,
   "latex_user_defs": false,
   "report_style_numbering": false,
   "user_envs_cfg": false
  },
  "toc": {
   "base_numbering": 1,
   "nav_menu": {},
   "number_sections": true,
   "sideBar": true,
   "skip_h1_title": false,
   "title_cell": "Table of Contents",
   "title_sidebar": "Contents",
   "toc_cell": true,
   "toc_position": {},
   "toc_section_display": true,
   "toc_window_display": true
  }
 },
 "nbformat": 4,
 "nbformat_minor": 2
}
