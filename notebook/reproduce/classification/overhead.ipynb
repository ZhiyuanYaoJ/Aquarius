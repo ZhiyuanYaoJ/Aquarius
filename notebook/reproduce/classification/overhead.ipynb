{
 "cells": [
  {
   "cell_type": "markdown",
   "metadata": {
    "toc": true
   },
   "source": [
    "<h1>Table of Contents<span class=\"tocSkip\"></span></h1>\n",
    "<div class=\"toc\"><ul class=\"toc-item\"><li><span><a href=\"#TL;DR\" data-toc-modified-id=\"TL;DR-1\"><span class=\"toc-item-num\">1&nbsp;&nbsp;</span>TL;DR</a></span></li><li><span><a href=\"#Import-libs\" data-toc-modified-id=\"Import-libs-2\"><span class=\"toc-item-num\">2&nbsp;&nbsp;</span>Import libs</a></span></li><li><span><a href=\"#Step-by-step\" data-toc-modified-id=\"Step-by-step-3\"><span class=\"toc-item-num\">3&nbsp;&nbsp;</span>Step-by-step</a></span><ul class=\"toc-item\"><li><span><a href=\"#Debug\" data-toc-modified-id=\"Debug-3.1\"><span class=\"toc-item-num\">3.1&nbsp;&nbsp;</span>Debug</a></span></li><li><span><a href=\"#Run\" data-toc-modified-id=\"Run-3.2\"><span class=\"toc-item-num\">3.2&nbsp;&nbsp;</span>Run</a></span></li></ul></li><li><span><a href=\"#Pipeline\" data-toc-modified-id=\"Pipeline-4\"><span class=\"toc-item-num\">4&nbsp;&nbsp;</span>Pipeline</a></span><ul class=\"toc-item\"><li><span><a href=\"#Traffic-poisson_exp_compute_2e6\" data-toc-modified-id=\"Traffic-poisson_exp_compute_2e6-4.1\"><span class=\"toc-item-num\">4.1&nbsp;&nbsp;</span>Traffic poisson_exp_compute_2e6</a></span><ul class=\"toc-item\"><li><span><a href=\"#Choose-samples-for-1lb\" data-toc-modified-id=\"Choose-samples-for-1lb-4.1.1\"><span class=\"toc-item-num\">4.1.1&nbsp;&nbsp;</span>Choose samples for 1lb</a></span></li></ul></li><li><span><a href=\"#Run-heuristics\" data-toc-modified-id=\"Run-heuristics-4.2\"><span class=\"toc-item-num\">4.2&nbsp;&nbsp;</span>Run heuristics</a></span></li><li><span><a href=\"#Run-maglev\" data-toc-modified-id=\"Run-maglev-4.3\"><span class=\"toc-item-num\">4.3&nbsp;&nbsp;</span>Run maglev</a></span></li><li><span><a href=\"#Run-nf-llf\" data-toc-modified-id=\"Run-nf-llf-4.4\"><span class=\"toc-item-num\">4.4&nbsp;&nbsp;</span>Run nf-llf</a></span></li><li><span><a href=\"#Run-nf-po2\" data-toc-modified-id=\"Run-nf-po2-4.5\"><span class=\"toc-item-num\">4.5&nbsp;&nbsp;</span>Run nf-po2</a></span></li><li><span><a href=\"#Run-weighted\" data-toc-modified-id=\"Run-weighted-4.6\"><span class=\"toc-item-num\">4.6&nbsp;&nbsp;</span>Run weighted</a></span></li></ul></li></ul></div>"
   ]
  },
  {
   "cell_type": "markdown",
   "metadata": {},
   "source": [
    "# TL;DR\n",
    "This notebook is used to do unit test for each candidate load balancing method implemented for testbed.\n",
    "\n",
    "Experiment setup:\n",
    "- 1 lb\n",
    "- 12 as\n",
    "- poisson_lognormal trace\n",
    "- [110, 112, 114, 116, 118, 120] traffic rate\n",
    "- 4 as w/ colocated workload \n",
    "\n",
    "Candidate methods:\n",
    "- Maglev (ECMP)\n",
    "- Static-ws (WCMP)\n",
    "- NF-LLF (LSQ)\n",
    "- NF-PO2 (LSQ2)\n",
    "- Heuristic-ada"
   ]
  },
  {
   "cell_type": "markdown",
   "metadata": {},
   "source": [
    "# Import libs"
   ]
  },
  {
   "cell_type": "code",
   "execution_count": 1,
   "metadata": {
    "scrolled": true
   },
   "outputs": [],
   "source": [
    "import sys\n",
    "import os\n",
    "utils_dir = '../../src/utils'\n",
    "sys.path.insert(0, utils_dir) # add utils dir to path\n",
    "import testbed_utils as tu\n",
    "import time"
   ]
  },
  {
   "cell_type": "markdown",
   "metadata": {},
   "source": [
    "# Step-by-step"
   ]
  },
  {
   "cell_type": "markdown",
   "metadata": {},
   "source": [
    "## Debug"
   ]
  },
  {
   "cell_type": "code",
   "execution_count": 30,
   "metadata": {},
   "outputs": [],
   "source": [
    "tu.umount_image()"
   ]
  },
  {
   "cell_type": "code",
   "execution_count": 29,
   "metadata": {},
   "outputs": [],
   "source": [
    "tu.mount_image(tu.CONF['global']['path']['orig_img'])"
   ]
  },
  {
   "cell_type": "code",
   "execution_count": 7,
   "metadata": {},
   "outputs": [],
   "source": [
    "tu.umount_image()\n",
    "# mount base image\n",
    "tu.mount_new_image(tu.CONF['global']['path']['orig_img'], tu.CONF['global']['path']['base_img'])"
   ]
  },
  {
   "cell_type": "code",
   "execution_count": 81,
   "metadata": {},
   "outputs": [
    {
     "name": "stdout",
     "output_type": "stream",
     "text": [
      "sudo modprobe nbd max_part=8;    sudo qemu-nbd --connect=/dev/nbd0 /home/yzy/Load-Balancer/data/img/lb-vpp-base.img;    sudo mount -o loop /dev/nbd0p1 /mnt/loop;    \n",
      "\n"
     ]
    }
   ],
   "source": [
    "img = tu.CONF['global']['path']['base_img']\n",
    "cmd = \"sudo modprobe nbd max_part=8;\\\n",
    "    sudo qemu-nbd --connect=/dev/nbd0 {};\\\n",
    "    sudo mount -o loop /dev/nbd0p1 {};\\\n",
    "    \\n\".format(img, tu.LOOP_DIR)\n",
    "print(cmd)"
   ]
  },
  {
   "cell_type": "code",
   "execution_count": 84,
   "metadata": {},
   "outputs": [
    {
     "name": "stdout",
     "output_type": "stream",
     "text": [
      "sudo chown 1000:1000 /mnt/loop/home/cisco/*;        sudo umount /mnt/loop/;        sudo qemu-nbd --disconnect /dev/nbd0;\n",
      "\n"
     ]
    }
   ],
   "source": [
    "cmd = \"sudo chown 1000:1000 {0}/home/cisco/*;\\\n",
    "        sudo umount {0}/;\\\n",
    "        sudo qemu-nbd --disconnect /dev/nbd0;\\n\".format(tu.LOOP_DIR)\n",
    "print(cmd)"
   ]
  },
  {
   "cell_type": "markdown",
   "metadata": {},
   "source": [
    "## Unit test"
   ]
  },
  {
   "cell_type": "code",
   "execution_count": 197,
   "metadata": {},
   "outputs": [],
   "source": [
    "lb_method = 'maglev'\n",
    "trace='poisson_benchmark'\n",
    "experiment='atc-overhead-dev'\n",
    "sample='rate_500.csv'\n",
    "from_orig=False\n",
    "config_file_prefix='1x-1lb-88core'\n",
    "colocate=None\n",
    "colocate_freq=0.0001\n",
    "twist=False\n",
    "clip_n=None\n",
    "ep = 1"
   ]
  },
  {
   "cell_type": "code",
   "execution_count": 198,
   "metadata": {
    "scrolled": true
   },
   "outputs": [
    {
     "name": "stdout",
     "output_type": "stream",
     "text": [
      "init_task_info: alias=1x-1lb-88core\n",
      "alias=1x-1lb-88core\n",
      ">> run task poisson_benchmark-maglev-rate_500-1x-1lb-88core\n"
     ]
    }
   ],
   "source": [
    "server_id = 1\n",
    "if twist:\n",
    "    config_file_prefix += '-twist'\n",
    "config_file = config_file_prefix+'-'+str(server_id)\n",
    "config_file_remote = {i: config_file_prefix+'-{}'.format(i) for i in [0, 2, 3]}\n",
    "ip_remote = tu.COMMON_CONF['net']['physical_server_ip']\n",
    "\n",
    "\n",
    "task_name, task_dir, nodes = tu.init_task_info(\n",
    "    experiment=experiment,\n",
    "    lb_method=lb_method,\n",
    "    trace=trace,\n",
    "    sample=sample,\n",
    "    filename=config_file+'.json',\n",
    "    colocate=colocate,\n",
    "    colocate_freq=colocate_freq,\n",
    "    alias=config_file_prefix\n",
    ")\n",
    "\n",
    "print(\">> run task {}\".format(task_name))"
   ]
  },
  {
   "cell_type": "code",
   "execution_count": 199,
   "metadata": {
    "scrolled": true
   },
   "outputs": [],
   "source": [
    "for server_id in [0, 2, 3]:\n",
    "    if clip_n and server_id == 0:\n",
    "        clip_str = '-n {}'.format(clip_n)\n",
    "    else:\n",
    "        clip_str = ''\n",
    "    \n",
    "    cmd = 'ssh -t yzy@{} \"python3 /home/yzy/Load-Balancer/src/utils/run2server.py --experiment {} --colocate-freq {} -m {} --tr {} --sample {} -f {}.json {}\"'.format(\n",
    "        ip_remote[server_id], experiment, colocate_freq, lb_method, trace, sample, config_file_remote[server_id], clip_str)\n",
    "    \n",
    "    tu.subprocess.Popen(cmd, shell=True)"
   ]
  },
  {
   "cell_type": "code",
   "execution_count": 200,
   "metadata": {},
   "outputs": [
    {
     "name": "stdout",
     "output_type": "stream",
     "text": [
      "Create LB node image...\n"
     ]
    }
   ],
   "source": [
    "tu.prepare_img(lb_method=lb_method, from_orig=from_orig, debug_node=False)"
   ]
  },
  {
   "cell_type": "code",
   "execution_count": 201,
   "metadata": {
    "scrolled": true
   },
   "outputs": [
    {
     "name": "stdout",
     "output_type": "stream",
     "text": [
      "node_lb_0 ready: ssh -p 8900 cisco@localhost\n",
      "node_server_9 ready: ssh -p 9009 cisco@localhost\n",
      "node_server_10 ready: ssh -p 9010 cisco@localhost\n",
      "node_server_11 ready: ssh -p 9011 cisco@localhost\n",
      "node_server_12 ready: ssh -p 9012 cisco@localhost\n",
      "node_server_13 ready: ssh -p 9013 cisco@localhost\n",
      "node_server_14 ready: ssh -p 9014 cisco@localhost\n",
      "node_server_15 ready: ssh -p 9015 cisco@localhost\n",
      "node_server_16 ready: ssh -p 9016 cisco@localhost\n",
      "node_server_17 ready: ssh -p 9017 cisco@localhost\n",
      "node_server_18 ready: ssh -p 9018 cisco@localhost\n",
      "node_server_19 ready: ssh -p 9019 cisco@localhost\n"
     ]
    }
   ],
   "source": [
    "tu.runall()\n",
    "time.sleep(10)"
   ]
  },
  {
   "cell_type": "code",
   "execution_count": 202,
   "metadata": {
    "scrolled": true
   },
   "outputs": [
    {
     "name": "stdout",
     "output_type": "stream",
     "text": [
      "LB Node 0: pass\n"
     ]
    }
   ],
   "source": [
    "net_ok = False\n",
    "while not net_ok:\n",
    "    try:\n",
    "        tu.gt_socket_check()\n",
    "        net_ok = True\n",
    "    except:\n",
    "        print('error')\n",
    "        time.sleep(1)"
   ]
  },
  {
   "cell_type": "code",
   "execution_count": 203,
   "metadata": {},
   "outputs": [],
   "source": [
    "# start gathering at LB node\n",
    "for lb in tu.NODES['lb']:\n",
    "    lb.run_init_bg()"
   ]
  },
  {
   "cell_type": "code",
   "execution_count": 204,
   "metadata": {
    "scrolled": true
   },
   "outputs": [
    {
     "name": "stdout",
     "output_type": "stream",
     "text": [
      "Trace replay over w/ total time: 225.001s\n"
     ]
    }
   ],
   "source": [
    "# run traffic\n",
    "t0 = time.time()\n",
    "cmd = 'ssh -t yzy@10.60.16.12 \"python3 /home/yzy/Load-Balancer/src/utils/run_traffic.py --experiment {} --colocate-freq {} -m {} --tr {} --sample {} -f {}.json\"'.format(\n",
    "    experiment, colocate_freq, lb_method, trace, sample, config_file_remote[0])\n",
    "if colocate:\n",
    "    cmd += ' --colocate {}'.format(colocate)\n",
    "    \n",
    "tu.subprocess_cmd(cmd)\n",
    "print(\"Trace replay over w/ total time: {:.3f}s\".format(time.time()-t0))\n",
    "# time.sleep(5)"
   ]
  },
  {
   "cell_type": "code",
   "execution_count": 205,
   "metadata": {
    "scrolled": true
   },
   "outputs": [],
   "source": [
    "# fetch results from nodes\n",
    "for server_id in [0, 2, 3]:\n",
    "    cmd = 'ssh -t yzy@{} \"python3 /home/yzy/Load-Balancer/src/utils/shutdown2server.py --experiment {} --colocate-freq {} -m {} --tr {} --sample {} -f {}.json --episode {}\"'.format(\n",
    "        ip_remote[server_id], experiment, colocate_freq, lb_method, trace, sample, config_file_remote[server_id], ep)\n",
    "#     if server_id == 0:\n",
    "    cmd += ' --shutdown'\n",
    "    tu.subprocess.Popen(cmd, shell=True)"
   ]
  },
  {
   "cell_type": "code",
   "execution_count": 206,
   "metadata": {},
   "outputs": [],
   "source": [
    "for lb in tu.NODES['lb']:\n",
    "    lb.fetch_result(task_dir, ep)"
   ]
  },
  {
   "cell_type": "code",
   "execution_count": 207,
   "metadata": {},
   "outputs": [],
   "source": [
    "tu.shutall()"
   ]
  },
  {
   "cell_type": "code",
   "execution_count": null,
   "metadata": {},
   "outputs": [],
   "source": []
  },
  {
   "cell_type": "markdown",
   "metadata": {},
   "source": [
    "## Pipeline"
   ]
  },
  {
   "cell_type": "code",
   "execution_count": 80,
   "metadata": {},
   "outputs": [],
   "source": [
    "def run_pipeline(\n",
    "    lb_method = 'maglev',\n",
    "    trace='poisson_benchmark',\n",
    "    experiment='atc-overhead',\n",
    "    sample='rate_500.csv',\n",
    "    from_orig=None,\n",
    "    config_file_prefix='1x-1lb-88core',\n",
    "    colocate=None,\n",
    "    colocate_freq=0.0001,\n",
    "    twist=False,\n",
    "    clip_n=None,\n",
    "    eps = [1, 2, 3]\n",
    "):\n",
    "    server_id = 1\n",
    "    if twist:\n",
    "        config_file_prefix += '-twist'\n",
    "    config_file = config_file_prefix+'-'+str(server_id)\n",
    "    config_file_remote = {i: config_file_prefix+'-{}'.format(i) for i in [0, 2, 3]}\n",
    "    ip_remote = tu.COMMON_CONF['net']['physical_server_ip']\n",
    "\n",
    "    for ep in eps:\n",
    "\n",
    "        print(\"episode {}\".format(ep))\n",
    "        task_name, task_dir, nodes = tu.init_task_info(\n",
    "            experiment=experiment,\n",
    "            lb_method=lb_method,\n",
    "            trace=trace,\n",
    "            sample=sample,\n",
    "            filename=config_file+'.json',\n",
    "            colocate=colocate,\n",
    "            colocate_freq=colocate_freq,\n",
    "            alias=config_file_prefix\n",
    "        )\n",
    "\n",
    "        print(\">> run task {}\".format(task_name))\n",
    "\n",
    "        for server_id in [0, 2, 3]:\n",
    "            if clip_n and server_id == 0:\n",
    "                clip_str = '-n {}'.format(clip_n)\n",
    "            else:\n",
    "                clip_str = ''\n",
    "\n",
    "            cmd = 'ssh -t yzy@{} \"python3 /home/yzy/Load-Balancer/src/utils/run2server.py --experiment {} --colocate-freq {} -m {} --tr {} --sample {} -f {}.json {}\"'.format(\n",
    "                ip_remote[server_id], experiment, colocate_freq, lb_method, trace, sample, config_file_remote[server_id], clip_str)\n",
    "\n",
    "            tu.subprocess.Popen(cmd, shell=True)\n",
    "\n",
    "        tu.prepare_img(lb_method=lb_method, from_orig=from_orig, debug_node=False)\n",
    "\n",
    "        tu.runall()\n",
    "        time.sleep(10)\n",
    "\n",
    "        net_ok = False\n",
    "        while not net_ok:\n",
    "            try:\n",
    "                tu.gt_socket_check()\n",
    "                net_ok = True\n",
    "            except:\n",
    "                print('error')\n",
    "                time.sleep(1)\n",
    "\n",
    "        # start gathering at LB node\n",
    "        for lb in tu.NODES['lb']:\n",
    "            lb.run_init_bg()\n",
    "\n",
    "        # run traffic\n",
    "        t0 = time.time()\n",
    "        cmd = 'ssh -t yzy@10.60.16.12 \"python3 /home/yzy/Load-Balancer/src/utils/run_traffic.py --experiment {} --colocate-freq {} -m {} --tr {} --sample {} -f {}.json\"'.format(\n",
    "            experiment, colocate_freq, lb_method, trace, sample, config_file_remote[0])\n",
    "        if colocate:\n",
    "            cmd += ' --colocate {}'.format(colocate)\n",
    "\n",
    "        tu.subprocess_cmd(cmd)\n",
    "        print(\"Trace replay over w/ total time: {:.3f}s\".format(time.time()-t0))\n",
    "        # time.sleep(5)\n",
    "\n",
    "        # fetch results from nodes\n",
    "        for server_id in [0, 2, 3]:\n",
    "            cmd = 'ssh -t yzy@{} \"python3 /home/yzy/Load-Balancer/src/utils/shutdown2server.py --experiment {} --colocate-freq {} -m {} --tr {} --sample {} -f {}.json --episode {}\"'.format(\n",
    "                ip_remote[server_id], experiment, colocate_freq, lb_method, trace, sample, config_file_remote[server_id], ep)\n",
    "            if server_id == 0:\n",
    "                cmd += ' --shutdown'\n",
    "            tu.subprocess.Popen(cmd, shell=True)\n",
    "\n",
    "        for lb in tu.NODES['lb']:\n",
    "            lb.fetch_result(task_dir, ep)\n",
    "\n",
    "        tu.shutall()"
   ]
  },
  {
   "cell_type": "code",
   "execution_count": 81,
   "metadata": {},
   "outputs": [
    {
     "name": "stdout",
     "output_type": "stream",
     "text": [
      "=== method: maglev ===\n",
      "episode 2\n",
      "init_task_info: alias=1x-1lb-88core\n",
      "alias=1x-1lb-88core\n",
      ">> run task poisson_benchmark-maglev-rate_500-1x-1lb-88core\n",
      "Create LB node image...\n",
      "node_lb_0 ready: ssh -p 8900 cisco@localhost\n",
      "node_server_9 ready: ssh -p 9009 cisco@localhost\n",
      "node_server_10 ready: ssh -p 9010 cisco@localhost\n",
      "node_server_11 ready: ssh -p 9011 cisco@localhost\n",
      "node_server_12 ready: ssh -p 9012 cisco@localhost\n",
      "node_server_13 ready: ssh -p 9013 cisco@localhost\n",
      "node_server_14 ready: ssh -p 9014 cisco@localhost\n",
      "node_server_15 ready: ssh -p 9015 cisco@localhost\n",
      "node_server_16 ready: ssh -p 9016 cisco@localhost\n",
      "node_server_17 ready: ssh -p 9017 cisco@localhost\n",
      "node_server_18 ready: ssh -p 9018 cisco@localhost\n",
      "node_server_19 ready: ssh -p 9019 cisco@localhost\n",
      "LB Node 0: pass\n",
      "Trace replay over w/ total time: 228.434s\n",
      "episode 3\n",
      "init_task_info: alias=1x-1lb-88core\n",
      "alias=1x-1lb-88core\n",
      ">> run task poisson_benchmark-maglev-rate_500-1x-1lb-88core\n",
      "Create LB node image...\n",
      "node_lb_0 ready: ssh -p 8900 cisco@localhost\n",
      "node_server_9 ready: ssh -p 9009 cisco@localhost\n",
      "node_server_10 ready: ssh -p 9010 cisco@localhost\n",
      "node_server_11 ready: ssh -p 9011 cisco@localhost\n",
      "node_server_12 ready: ssh -p 9012 cisco@localhost\n",
      "node_server_13 ready: ssh -p 9013 cisco@localhost\n",
      "node_server_14 ready: ssh -p 9014 cisco@localhost\n",
      "node_server_15 ready: ssh -p 9015 cisco@localhost\n",
      "node_server_16 ready: ssh -p 9016 cisco@localhost\n",
      "node_server_17 ready: ssh -p 9017 cisco@localhost\n",
      "node_server_18 ready: ssh -p 9018 cisco@localhost\n",
      "node_server_19 ready: ssh -p 9019 cisco@localhost\n",
      "LB Node 0: pass\n",
      "Trace replay over w/ total time: 228.806s\n",
      "episode 4\n",
      "init_task_info: alias=1x-1lb-88core\n",
      "alias=1x-1lb-88core\n",
      ">> run task poisson_benchmark-maglev-rate_500-1x-1lb-88core\n",
      "Create LB node image...\n",
      "node_lb_0 ready: ssh -p 8900 cisco@localhost\n",
      "node_server_9 ready: ssh -p 9009 cisco@localhost\n",
      "node_server_10 ready: ssh -p 9010 cisco@localhost\n",
      "node_server_11 ready: ssh -p 9011 cisco@localhost\n",
      "node_server_12 ready: ssh -p 9012 cisco@localhost\n",
      "node_server_13 ready: ssh -p 9013 cisco@localhost\n",
      "node_server_14 ready: ssh -p 9014 cisco@localhost\n",
      "node_server_15 ready: ssh -p 9015 cisco@localhost\n",
      "node_server_16 ready: ssh -p 9016 cisco@localhost\n",
      "node_server_17 ready: ssh -p 9017 cisco@localhost\n",
      "node_server_18 ready: ssh -p 9018 cisco@localhost\n",
      "node_server_19 ready: ssh -p 9019 cisco@localhost\n",
      "LB Node 0: pass\n",
      "Trace replay over w/ total time: 228.723s\n",
      "episode 5\n",
      "init_task_info: alias=1x-1lb-88core\n",
      "alias=1x-1lb-88core\n",
      ">> run task poisson_benchmark-maglev-rate_500-1x-1lb-88core\n",
      "Create LB node image...\n",
      "node_lb_0 ready: ssh -p 8900 cisco@localhost\n",
      "node_server_9 ready: ssh -p 9009 cisco@localhost\n",
      "node_server_10 ready: ssh -p 9010 cisco@localhost\n",
      "node_server_11 ready: ssh -p 9011 cisco@localhost\n",
      "node_server_12 ready: ssh -p 9012 cisco@localhost\n",
      "node_server_13 ready: ssh -p 9013 cisco@localhost\n",
      "node_server_14 ready: ssh -p 9014 cisco@localhost\n",
      "node_server_15 ready: ssh -p 9015 cisco@localhost\n",
      "node_server_16 ready: ssh -p 9016 cisco@localhost\n",
      "node_server_17 ready: ssh -p 9017 cisco@localhost\n",
      "node_server_18 ready: ssh -p 9018 cisco@localhost\n",
      "node_server_19 ready: ssh -p 9019 cisco@localhost\n",
      "LB Node 0: pass\n",
      "Trace replay over w/ total time: 225.761s\n",
      "episode 6\n",
      "init_task_info: alias=1x-1lb-88core\n",
      "alias=1x-1lb-88core\n",
      ">> run task poisson_benchmark-maglev-rate_500-1x-1lb-88core\n",
      "Create LB node image...\n",
      "node_lb_0 ready: ssh -p 8900 cisco@localhost\n",
      "node_server_9 ready: ssh -p 9009 cisco@localhost\n",
      "node_server_10 ready: ssh -p 9010 cisco@localhost\n",
      "node_server_11 ready: ssh -p 9011 cisco@localhost\n",
      "node_server_12 ready: ssh -p 9012 cisco@localhost\n",
      "node_server_13 ready: ssh -p 9013 cisco@localhost\n",
      "node_server_14 ready: ssh -p 9014 cisco@localhost\n",
      "node_server_15 ready: ssh -p 9015 cisco@localhost\n",
      "node_server_16 ready: ssh -p 9016 cisco@localhost\n",
      "node_server_17 ready: ssh -p 9017 cisco@localhost\n",
      "node_server_18 ready: ssh -p 9018 cisco@localhost\n",
      "node_server_19 ready: ssh -p 9019 cisco@localhost\n",
      "LB Node 0: pass\n",
      "Trace replay over w/ total time: 229.481s\n",
      "episode 7\n",
      "init_task_info: alias=1x-1lb-88core\n",
      "alias=1x-1lb-88core\n",
      ">> run task poisson_benchmark-maglev-rate_500-1x-1lb-88core\n",
      "Create LB node image...\n",
      "node_lb_0 ready: ssh -p 8900 cisco@localhost\n",
      "node_server_9 ready: ssh -p 9009 cisco@localhost\n",
      "node_server_10 ready: ssh -p 9010 cisco@localhost\n",
      "node_server_11 ready: ssh -p 9011 cisco@localhost\n",
      "node_server_12 ready: ssh -p 9012 cisco@localhost\n",
      "node_server_13 ready: ssh -p 9013 cisco@localhost\n",
      "node_server_14 ready: ssh -p 9014 cisco@localhost\n",
      "node_server_15 ready: ssh -p 9015 cisco@localhost\n",
      "node_server_16 ready: ssh -p 9016 cisco@localhost\n",
      "node_server_17 ready: ssh -p 9017 cisco@localhost\n",
      "node_server_18 ready: ssh -p 9018 cisco@localhost\n",
      "node_server_19 ready: ssh -p 9019 cisco@localhost\n",
      "LB Node 0: pass\n",
      "Trace replay over w/ total time: 232.111s\n",
      "episode 8\n",
      "init_task_info: alias=1x-1lb-88core\n",
      "alias=1x-1lb-88core\n",
      ">> run task poisson_benchmark-maglev-rate_500-1x-1lb-88core\n",
      "Create LB node image...\n",
      "node_lb_0 ready: ssh -p 8900 cisco@localhost\n",
      "node_server_9 ready: ssh -p 9009 cisco@localhost\n",
      "node_server_10 ready: ssh -p 9010 cisco@localhost\n",
      "node_server_11 ready: ssh -p 9011 cisco@localhost\n",
      "node_server_12 ready: ssh -p 9012 cisco@localhost\n",
      "node_server_13 ready: ssh -p 9013 cisco@localhost\n",
      "node_server_14 ready: ssh -p 9014 cisco@localhost\n",
      "node_server_15 ready: ssh -p 9015 cisco@localhost\n",
      "node_server_16 ready: ssh -p 9016 cisco@localhost\n",
      "node_server_17 ready: ssh -p 9017 cisco@localhost\n",
      "node_server_18 ready: ssh -p 9018 cisco@localhost\n",
      "node_server_19 ready: ssh -p 9019 cisco@localhost\n",
      "LB Node 0: pass\n",
      "Trace replay over w/ total time: 228.803s\n",
      "episode 9\n",
      "init_task_info: alias=1x-1lb-88core\n",
      "alias=1x-1lb-88core\n",
      ">> run task poisson_benchmark-maglev-rate_500-1x-1lb-88core\n",
      "Create LB node image...\n",
      "node_lb_0 ready: ssh -p 8900 cisco@localhost\n",
      "node_server_9 ready: ssh -p 9009 cisco@localhost\n",
      "node_server_10 ready: ssh -p 9010 cisco@localhost\n",
      "node_server_11 ready: ssh -p 9011 cisco@localhost\n",
      "node_server_12 ready: ssh -p 9012 cisco@localhost\n",
      "node_server_13 ready: ssh -p 9013 cisco@localhost\n",
      "node_server_14 ready: ssh -p 9014 cisco@localhost\n",
      "node_server_15 ready: ssh -p 9015 cisco@localhost\n",
      "node_server_16 ready: ssh -p 9016 cisco@localhost\n",
      "node_server_17 ready: ssh -p 9017 cisco@localhost\n",
      "node_server_18 ready: ssh -p 9018 cisco@localhost\n",
      "node_server_19 ready: ssh -p 9019 cisco@localhost\n",
      "LB Node 0: pass\n",
      "Trace replay over w/ total time: 228.932s\n",
      "=== method: ecmp ===\n",
      "episode 2\n",
      "init_task_info: alias=1x-1lb-88core\n",
      "alias=1x-1lb-88core\n",
      ">> run task poisson_benchmark-ecmp-rate_500-1x-1lb-88core\n",
      "Create LB node image...\n",
      "node_lb_0 ready: ssh -p 8900 cisco@localhost\n",
      "node_server_9 ready: ssh -p 9009 cisco@localhost\n",
      "node_server_10 ready: ssh -p 9010 cisco@localhost\n",
      "node_server_11 ready: ssh -p 9011 cisco@localhost\n",
      "node_server_12 ready: ssh -p 9012 cisco@localhost\n",
      "node_server_13 ready: ssh -p 9013 cisco@localhost\n",
      "node_server_14 ready: ssh -p 9014 cisco@localhost\n",
      "node_server_15 ready: ssh -p 9015 cisco@localhost\n",
      "node_server_16 ready: ssh -p 9016 cisco@localhost\n",
      "node_server_17 ready: ssh -p 9017 cisco@localhost\n",
      "node_server_18 ready: ssh -p 9018 cisco@localhost\n",
      "node_server_19 ready: ssh -p 9019 cisco@localhost\n",
      "LB Node 0: pass\n",
      "Trace replay over w/ total time: 228.932s\n",
      "episode 3\n",
      "init_task_info: alias=1x-1lb-88core\n",
      "alias=1x-1lb-88core\n",
      ">> run task poisson_benchmark-ecmp-rate_500-1x-1lb-88core\n",
      "Create LB node image...\n",
      "node_lb_0 ready: ssh -p 8900 cisco@localhost\n",
      "node_server_9 ready: ssh -p 9009 cisco@localhost\n",
      "node_server_10 ready: ssh -p 9010 cisco@localhost\n",
      "node_server_11 ready: ssh -p 9011 cisco@localhost\n",
      "node_server_12 ready: ssh -p 9012 cisco@localhost\n",
      "node_server_13 ready: ssh -p 9013 cisco@localhost\n",
      "node_server_14 ready: ssh -p 9014 cisco@localhost\n",
      "node_server_15 ready: ssh -p 9015 cisco@localhost\n",
      "node_server_16 ready: ssh -p 9016 cisco@localhost\n",
      "node_server_17 ready: ssh -p 9017 cisco@localhost\n",
      "node_server_18 ready: ssh -p 9018 cisco@localhost\n",
      "node_server_19 ready: ssh -p 9019 cisco@localhost\n",
      "LB Node 0: pass\n",
      "Trace replay over w/ total time: 230.413s\n",
      "episode 4\n",
      "init_task_info: alias=1x-1lb-88core\n",
      "alias=1x-1lb-88core\n",
      ">> run task poisson_benchmark-ecmp-rate_500-1x-1lb-88core\n",
      "Create LB node image...\n"
     ]
    },
    {
     "name": "stdout",
     "output_type": "stream",
     "text": [
      "node_lb_0 ready: ssh -p 8900 cisco@localhost\n",
      "node_server_9 ready: ssh -p 9009 cisco@localhost\n",
      "node_server_10 ready: ssh -p 9010 cisco@localhost\n",
      "node_server_11 ready: ssh -p 9011 cisco@localhost\n",
      "node_server_12 ready: ssh -p 9012 cisco@localhost\n",
      "node_server_13 ready: ssh -p 9013 cisco@localhost\n",
      "node_server_14 ready: ssh -p 9014 cisco@localhost\n",
      "node_server_15 ready: ssh -p 9015 cisco@localhost\n",
      "node_server_16 ready: ssh -p 9016 cisco@localhost\n",
      "node_server_17 ready: ssh -p 9017 cisco@localhost\n",
      "node_server_18 ready: ssh -p 9018 cisco@localhost\n",
      "node_server_19 ready: ssh -p 9019 cisco@localhost\n",
      "LB Node 0: pass\n",
      "Trace replay over w/ total time: 230.383s\n",
      "episode 5\n",
      "init_task_info: alias=1x-1lb-88core\n",
      "alias=1x-1lb-88core\n",
      ">> run task poisson_benchmark-ecmp-rate_500-1x-1lb-88core\n",
      "Create LB node image...\n",
      "node_lb_0 ready: ssh -p 8900 cisco@localhost\n",
      "node_server_9 ready: ssh -p 9009 cisco@localhost\n",
      "node_server_10 ready: ssh -p 9010 cisco@localhost\n",
      "node_server_11 ready: ssh -p 9011 cisco@localhost\n",
      "node_server_12 ready: ssh -p 9012 cisco@localhost\n",
      "node_server_13 ready: ssh -p 9013 cisco@localhost\n",
      "node_server_14 ready: ssh -p 9014 cisco@localhost\n",
      "node_server_15 ready: ssh -p 9015 cisco@localhost\n",
      "node_server_16 ready: ssh -p 9016 cisco@localhost\n",
      "node_server_17 ready: ssh -p 9017 cisco@localhost\n",
      "node_server_18 ready: ssh -p 9018 cisco@localhost\n",
      "node_server_19 ready: ssh -p 9019 cisco@localhost\n",
      "LB Node 0: pass\n",
      "Trace replay over w/ total time: 233.016s\n",
      "episode 6\n",
      "init_task_info: alias=1x-1lb-88core\n",
      "alias=1x-1lb-88core\n",
      ">> run task poisson_benchmark-ecmp-rate_500-1x-1lb-88core\n",
      "Create LB node image...\n",
      "node_lb_0 ready: ssh -p 8900 cisco@localhost\n",
      "node_server_9 ready: ssh -p 9009 cisco@localhost\n",
      "node_server_10 ready: ssh -p 9010 cisco@localhost\n",
      "node_server_11 ready: ssh -p 9011 cisco@localhost\n",
      "node_server_12 ready: ssh -p 9012 cisco@localhost\n",
      "node_server_13 ready: ssh -p 9013 cisco@localhost\n",
      "node_server_14 ready: ssh -p 9014 cisco@localhost\n",
      "node_server_15 ready: ssh -p 9015 cisco@localhost\n",
      "node_server_16 ready: ssh -p 9016 cisco@localhost\n",
      "node_server_17 ready: ssh -p 9017 cisco@localhost\n",
      "node_server_18 ready: ssh -p 9018 cisco@localhost\n",
      "node_server_19 ready: ssh -p 9019 cisco@localhost\n",
      "LB Node 0: pass\n",
      "Trace replay over w/ total time: 229.504s\n",
      "episode 7\n",
      "init_task_info: alias=1x-1lb-88core\n",
      "alias=1x-1lb-88core\n",
      ">> run task poisson_benchmark-ecmp-rate_500-1x-1lb-88core\n",
      "Create LB node image...\n",
      "node_lb_0 ready: ssh -p 8900 cisco@localhost\n",
      "node_server_9 ready: ssh -p 9009 cisco@localhost\n",
      "node_server_10 ready: ssh -p 9010 cisco@localhost\n",
      "node_server_11 ready: ssh -p 9011 cisco@localhost\n",
      "node_server_12 ready: ssh -p 9012 cisco@localhost\n",
      "node_server_13 ready: ssh -p 9013 cisco@localhost\n",
      "node_server_14 ready: ssh -p 9014 cisco@localhost\n",
      "node_server_15 ready: ssh -p 9015 cisco@localhost\n",
      "node_server_16 ready: ssh -p 9016 cisco@localhost\n",
      "node_server_17 ready: ssh -p 9017 cisco@localhost\n",
      "node_server_18 ready: ssh -p 9018 cisco@localhost\n",
      "node_server_19 ready: ssh -p 9019 cisco@localhost\n",
      "LB Node 0: pass\n",
      "Trace replay over w/ total time: 226.828s\n",
      "episode 8\n",
      "init_task_info: alias=1x-1lb-88core\n",
      "alias=1x-1lb-88core\n",
      ">> run task poisson_benchmark-ecmp-rate_500-1x-1lb-88core\n",
      "Create LB node image...\n",
      "node_lb_0 ready: ssh -p 8900 cisco@localhost\n",
      "node_server_9 ready: ssh -p 9009 cisco@localhost\n",
      "node_server_10 ready: ssh -p 9010 cisco@localhost\n",
      "node_server_11 ready: ssh -p 9011 cisco@localhost\n",
      "node_server_12 ready: ssh -p 9012 cisco@localhost\n",
      "node_server_13 ready: ssh -p 9013 cisco@localhost\n",
      "node_server_14 ready: ssh -p 9014 cisco@localhost\n",
      "node_server_15 ready: ssh -p 9015 cisco@localhost\n",
      "node_server_16 ready: ssh -p 9016 cisco@localhost\n",
      "node_server_17 ready: ssh -p 9017 cisco@localhost\n",
      "node_server_18 ready: ssh -p 9018 cisco@localhost\n",
      "node_server_19 ready: ssh -p 9019 cisco@localhost\n",
      "LB Node 0: pass\n",
      "Trace replay over w/ total time: 227.704s\n",
      "episode 9\n",
      "init_task_info: alias=1x-1lb-88core\n",
      "alias=1x-1lb-88core\n",
      ">> run task poisson_benchmark-ecmp-rate_500-1x-1lb-88core\n",
      "Create LB node image...\n",
      "node_lb_0 ready: ssh -p 8900 cisco@localhost\n",
      "node_server_9 ready: ssh -p 9009 cisco@localhost\n",
      "node_server_10 ready: ssh -p 9010 cisco@localhost\n",
      "node_server_11 ready: ssh -p 9011 cisco@localhost\n",
      "node_server_12 ready: ssh -p 9012 cisco@localhost\n",
      "node_server_13 ready: ssh -p 9013 cisco@localhost\n",
      "node_server_14 ready: ssh -p 9014 cisco@localhost\n",
      "node_server_15 ready: ssh -p 9015 cisco@localhost\n",
      "node_server_16 ready: ssh -p 9016 cisco@localhost\n",
      "node_server_17 ready: ssh -p 9017 cisco@localhost\n",
      "node_server_18 ready: ssh -p 9018 cisco@localhost\n",
      "node_server_19 ready: ssh -p 9019 cisco@localhost\n",
      "LB Node 0: pass\n",
      "Trace replay over w/ total time: 228.501s\n"
     ]
    }
   ],
   "source": [
    "for method in ['maglev', 'ecmp']:\n",
    "    print(\"=== method: {} ===\".format(method))\n",
    "    eps = range(2, 10)\n",
    "    run_pipeline(\n",
    "        lb_method=method,\n",
    "        eps=eps)"
   ]
  },
  {
   "cell_type": "markdown",
   "metadata": {},
   "source": [
    "## Plot Results"
   ]
  },
  {
   "cell_type": "code",
   "execution_count": 60,
   "metadata": {},
   "outputs": [],
   "source": [
    "import os\n",
    "import pandas as pd\n",
    "import numpy as np\n",
    "import seaborn as sns\n",
    "from math import pi\n",
    "import time\n",
    "import datetime\n",
    "import sys\n",
    "import os\n",
    "utils_dir = '../../src/utils'\n",
    "sys.path.insert(0, utils_dir) # add utils dir to path\n",
    "import testbed_utils as tu\n",
    "\n",
    "from sklearn import preprocessing\n",
    "import matplotlib.pyplot as plt\n",
    "from sklearn.decomposition import PCA\n",
    "from sklearn.preprocessing import normalize, MinMaxScaler, RobustScaler\n",
    "from scipy.stats import pearsonr\n",
    "from sklearn.model_selection import train_test_split\n",
    "\n",
    "import json\n",
    "import math\n",
    "import random\n",
    "\n",
    "%matplotlib inline\n",
    "min_max_scaler = preprocessing.MinMaxScaler()\n",
    "\n",
    "sns.set(style=\"ticks\")\n",
    "sns.set_style({\"xtick.direction\": \"in\",\"ytick.direction\": \"in\",\"xtick.top\":True,\"ytick.right\":True,\"axes.grid\":True})"
   ]
  },
  {
   "cell_type": "code",
   "execution_count": 61,
   "metadata": {},
   "outputs": [],
   "source": [
    "'''\n",
    "write data to json file\n",
    "'''\n",
    "def json_write2file(data, filename):\n",
    "    with open(filename, \"w\") as write_file:\n",
    "        json.dump(data, write_file, indent=4) # w/ indent the file looks better\n",
    "\n",
    "'''\n",
    "read data from json file\n",
    "'''\n",
    "def json_read_file(filename):\n",
    "    with open(filename, \"r\") as read_file:\n",
    "        return json.load(read_file)\n",
    "    \n",
    "# @desc:   read lines from a file into a list\n",
    "# @params: (str)filename\n",
    "# @return: list of strings\n",
    "def read_file(filename):\n",
    "    lines = []\n",
    "    with open (filename, \"r\") as myfile:\n",
    "        lines = [line.rstrip('\\n') for line in myfile]\n",
    "    return lines"
   ]
  },
  {
   "cell_type": "code",
   "execution_count": 157,
   "metadata": {},
   "outputs": [],
   "source": [
    "data_dir = '../../data/results/atc-overhead'\n",
    "methods = ['maglev', 'ecmp', 'ecmp_all', 'pcap']\n",
    "conf = '1x-1lb-88core'\n",
    "trace = 'poisson_benchmark'\n",
    "rate = 500"
   ]
  },
  {
   "cell_type": "code",
   "execution_count": 66,
   "metadata": {},
   "outputs": [
    {
     "name": "stdout",
     "output_type": "stream",
     "text": [
      "0_log_ep0  0_log_ep4  0_log_ep8      trace_ep3.log  trace_ep7.log\r\n",
      "0_log_ep1  0_log_ep5  0_log_ep9      trace_ep4.log  trace_ep8.log\r\n",
      "0_log_ep2  0_log_ep6  trace_ep1.log  trace_ep5.log  trace_ep9.log\r\n",
      "0_log_ep3  0_log_ep7  trace_ep2.log  trace_ep6.log\r\n"
     ]
    }
   ],
   "source": [
    "!ls $data_dir/poisson_benchmark/ecmp/rate_500-1x-1lb-88core"
   ]
  },
  {
   "cell_type": "code",
   "execution_count": 158,
   "metadata": {},
   "outputs": [],
   "source": [
    "clib_dict = {\n",
    "}\n",
    "for m in methods:\n",
    "    clib_dict[m] = {\n",
    "        0: [],\n",
    "        1: [],\n",
    "        2: []\n",
    "    }\n",
    "    eps = [1]\n",
    "    for ep in eps:\n",
    "        lines = [l.split('@dt = ')[-1].strip(' ') for l in read_file(os.path.join(data_dir, trace, m, 'rate_{:d}-{}'.format(rate, conf), '0_log_ep{}/clib.log'.format(ep))) if '@dt' in l]\n",
    "        for l in lines:\n",
    "            dt, packet_type = float(l.split('|')[0].strip(']')), int(l.split('|')[1].strip(']'))\n",
    "            clib_dict[m][packet_type].append(dt)"
   ]
  },
  {
   "cell_type": "code",
   "execution_count": 163,
   "metadata": {},
   "outputs": [],
   "source": [
    "lines = read_file(os.path.join(data_dir, trace, m, 'rate_{:d}-{}'.format(rate, conf), 'pcap2mem.log'))\n",
    "pcap_first = [int(l.split(\"| \")[-1]) for l in lines if '0 | ' in l]\n",
    "pcap_data = [int(l.split(\"| \")[-1]) for l in lines if '1 | ' in l]"
   ]
  },
  {
   "cell_type": "code",
   "execution_count": 166,
   "metadata": {},
   "outputs": [],
   "source": [
    "clib_dict[m][0] = [i+j for i, j in zip(clib_dict[m][0], pcap_first)]"
   ]
  },
  {
   "cell_type": "code",
   "execution_count": 167,
   "metadata": {},
   "outputs": [],
   "source": [
    "clib_dict[m][1] = [i+j for i, j in zip(clib_dict[m][1], pcap_first)]"
   ]
  },
  {
   "cell_type": "code",
   "execution_count": 224,
   "metadata": {},
   "outputs": [],
   "source": [
    "COLORS_DICT = {\n",
    "    'ecmp_all': \"#508fc3\", \n",
    "    'maglev': \"#634295\",\n",
    "    'ecmp': \"#559d3f\",\n",
    "    'pcap': \"#d1342b\",\n",
    "}\n",
    "\n",
    "MARKER_DICT = {\n",
    "    'maglev':       \".\",\n",
    "    'ecmp_all':    \"x\",\n",
    "    'ecmp': '2',\n",
    "    'pcap': '+',\n",
    "}\n",
    "\n",
    "LINESTYLE_DICT = {\n",
    "    'maglev':       \"--\",\n",
    "    'ecmp_all':    \"-\",\n",
    "}\n",
    "\n",
    "METHOD_MAPPER = {\n",
    "    'ecmp': \"11 Features\", \n",
    "    'ecmp_all': \"73 features\", \n",
    "    'maglev': \"0 Feature\", \n",
    "    'pcap': \"PCAP Log\",\n",
    "}"
   ]
  },
  {
   "cell_type": "code",
   "execution_count": 226,
   "metadata": {},
   "outputs": [
    {
     "data": {
      "image/png": "[encoded data removed]",
      "text/plain": [
       "<Figure size 672x134.4 with 2 Axes>"
      ]
     },
     "metadata": {},
     "output_type": "display_data"
    }
   ],
   "source": [
    "cpu_scale = 1\n",
    "mem_scale = 3.94444/100\n",
    "text_x = 350\n",
    "fig, axs = plt.subplots(1, 2, figsize=(7,1.4), dpi=96, sharex=False, sharey=True)\n",
    "plt.sca(axs[0])\n",
    "# plot with data as the data source\n",
    "for m in methods:\n",
    "    c, marker = COLORS_DICT[m], MARKER_DICT[m]\n",
    "    data = clib_dict[m][0]\n",
    "    percentiles = [np.percentile(data, p) for p in range(0, 110, 10)]\n",
    "    plt.plot(np.sort(data), np.linspace(0, 1, len(data), endpoint=False), color=c)\n",
    "    plt.plot(percentiles, np.linspace(0, 1, 11, endpoint=True), marker, color=c)\n",
    "    plt.plot(0, -1, '-{}'.format(marker), color=c, label=METHOD_MAPPER[m])\n",
    "plt.legend(bbox_to_anchor=(0., 1.05, 2.2, .102), loc='lower left',\n",
    "           ncol=4, mode=\"expand\", borderaxespad=0.)\n",
    "# plt.grid()\n",
    "plt.ylabel(\"CDF\\n(First Packet)\")\n",
    "plt.xscale('log')\n",
    "plt.xticks([300, 500, 1000, 2000, 4000], [300, 500, 1000, 2000, 4000])\n",
    "plt.xlim([300, 4000])\n",
    "\n",
    "\n",
    "plt.sca(axs[1])\n",
    "\n",
    "# plot with data as the data source\n",
    "for m in methods:\n",
    "    c, marker = COLORS_DICT[m], MARKER_DICT[m]\n",
    "    data = clib_dict[m][1]\n",
    "    percentiles = [np.percentile(data, p) for p in range(0, 110, 10)]\n",
    "    plt.plot(np.sort(data), np.linspace(0, 1, len(data), endpoint=False), color=c)\n",
    "    plt.plot(percentiles, np.linspace(0, 1, 11, endpoint=True), marker, color=c)\n",
    "    plt.plot(0, -1, '-{}'.format(marker), color=c, label=METHOD_MAPPER[m])\n",
    "\n",
    "plt.xscale('log')\n",
    "plt.xlim([300, 4000])\n",
    "plt.xticks([300, 500, 1000, 2000, 4000], [300, 500, 1000, 2000, 4000])\n",
    "\n",
    "plt.ylabel(\"CDF\\n(Data Packet)\")\n",
    "# plt.xlabel('Used RAM (GiB)')\n",
    "plt.suptitle(\"Number of CPU Cycles Per Packet\", x=0.5, y=-.05, fontsize=12);\n",
    "# plt.grid()\n",
    "plt.ylim([0, 1])\n",
    "plt.show()"
   ]
  },
  {
   "cell_type": "code",
   "execution_count": 242,
   "metadata": {
    "scrolled": true
   },
   "outputs": [
    {
     "name": "stdout",
     "output_type": "stream",
     "text": [
      "avg Additional cycles 2609.019 2.781x than w/o Aquarius 938.2322209436134\n",
      "avg Additional cycles 1635.838 1.744x than w/o Aquarius\n",
      "avg Additional cycles 1295.284 1.381x than w/o Aquarius\n",
      "avg Additional cycles 1670.787 than w/o Aquarius\n",
      "avg Additional cycles 697.606 than w/o Aquarius\n",
      "avg Additional cycles 357.052 than w/o Aquarius\n"
     ]
    }
   ],
   "source": [
    "print(\"avg Additional cycles {:.3f} {:.3f}x than w/o Aquarius {}\".format(np.mean(clib_dict['ecmp_all'][0]), (np.mean(clib_dict['ecmp_all'][0]) / np.mean(clib_dict['maglev'][0])), np.mean(clib_dict['maglev'][0])))\n",
    "print(\"avg Additional cycles {:.3f} {:.3f}x than w/o Aquarius\".format(np.mean(clib_dict['ecmp'][0]), (np.mean(clib_dict['ecmp'][0]) / np.mean(clib_dict['maglev'][0]))))\n",
    "print(\"avg Additional cycles {:.3f} {:.3f}x than w/o Aquarius\".format(np.mean(clib_dict['pcap'][0]), (np.mean(clib_dict['pcap'][0]) / np.mean(clib_dict['maglev'][0]))))\n",
    "print(\"avg Additional cycles {:.3f} than w/o Aquarius\".format((np.mean(clib_dict['ecmp_all'][0]) - np.mean(clib_dict['maglev'][0]))))\n",
    "print(\"avg Additional cycles {:.3f} than w/o Aquarius\".format((np.mean(clib_dict['ecmp'][0]) - np.mean(clib_dict['maglev'][0]))))\n",
    "print(\"avg Additional cycles {:.3f} than w/o Aquarius\".format((np.mean(clib_dict['pcap'][0]) - np.mean(clib_dict['maglev'][0]))))"
   ]
  },
  {
   "cell_type": "code",
   "execution_count": 188,
   "metadata": {},
   "outputs": [
    {
     "name": "stdout",
     "output_type": "stream",
     "text": [
      "avg Additional cycles 4.445x than w/o Aquarius 585.755\n",
      "avg Additional cycles 2.718x than w/o Aquarius\n",
      "avg Additional cycles 1.550x than w/o Aquarius\n",
      "avg Additional cycles 2017.956 than w/o Aquarius\n",
      "avg Additional cycles 1006.426 than w/o Aquarius\n",
      "avg Additional cycles 321.999 than w/o Aquarius\n"
     ]
    }
   ],
   "source": [
    "print(\"avg Additional cycles {:.3f}x than w/o Aquarius {:.3f}\".format((np.mean(clib_dict['ecmp_all'][0]+clib_dict['ecmp_all'][1]) / np.mean(clib_dict['maglev'][0]+clib_dict['maglev'][1])), np.mean(clib_dict['maglev'][0]+clib_dict['maglev'][1])))\n",
    "print(\"avg Additional cycles {:.3f}x than w/o Aquarius\".format((np.mean(clib_dict['ecmp'][0]+clib_dict['ecmp'][1]) / np.mean(clib_dict['maglev'][0]+clib_dict['maglev'][1]))))\n",
    "print(\"avg Additional cycles {:.3f}x than w/o Aquarius\".format((np.mean(clib_dict['pcap'][0]+clib_dict['pcap'][1]) / np.mean(clib_dict['maglev'][0]+clib_dict['maglev'][1]))))\n",
    "print(\"avg Additional cycles {:.3f} than w/o Aquarius\".format((np.mean(clib_dict['ecmp_all'][0]+clib_dict['ecmp_all'][1]) - np.mean(clib_dict['maglev'][0]+clib_dict['maglev'][1]))))\n",
    "print(\"avg Additional cycles {:.3f} than w/o Aquarius\".format((np.mean(clib_dict['ecmp'][0]+clib_dict['ecmp'][1]) - np.mean(clib_dict['maglev'][0]+clib_dict['maglev'][1]))))\n",
    "print(\"avg Additional cycles {:.3f} than w/o Aquarius\".format((np.mean(clib_dict['pcap'][0]+clib_dict['pcap'][1]) - np.mean(clib_dict['maglev'][0]+clib_dict['maglev'][1]))))"
   ]
  },
  {
   "cell_type": "code",
   "execution_count": 243,
   "metadata": {},
   "outputs": [
    {
     "name": "stdout",
     "output_type": "stream",
     "text": [
      "avg Additional cycles 2602.684370 4.516x than w/o Aquarius 576.357\n",
      "avg Additional cycles 1583.798840 2.748x than w/o Aquarius\n",
      "avg Additional cycles 885.040526 1.536x than w/o Aquarius\n",
      "avg Additional cycles 2026.327 than w/o Aquarius\n",
      "avg Additional cycles 1007.442 than w/o Aquarius\n",
      "avg Additional cycles 308.684 than w/o Aquarius\n"
     ]
    }
   ],
   "source": [
    "print(\"avg Additional cycles {:3f} {:.3f}x than w/o Aquarius {:.3f}\".format(np.mean(clib_dict['ecmp_all'][1]), (np.mean(clib_dict['ecmp_all'][1]) / np.mean(clib_dict['maglev'][1])), np.mean(clib_dict['maglev'][1])))\n",
    "print(\"avg Additional cycles {:3f} {:.3f}x than w/o Aquarius\".format(np.mean(clib_dict['ecmp'][1]), (np.mean(clib_dict['ecmp'][1]) / np.mean(clib_dict['maglev'][1]))))\n",
    "print(\"avg Additional cycles {:3f} {:.3f}x than w/o Aquarius\".format(np.mean(clib_dict['pcap'][1]), (np.mean(clib_dict['pcap'][1]) / np.mean(clib_dict['maglev'][1]))))\n",
    "print(\"avg Additional cycles {:.3f} than w/o Aquarius\".format((np.mean(clib_dict['ecmp_all'][1]) - np.mean(clib_dict['maglev'][1]))))\n",
    "print(\"avg Additional cycles {:.3f} than w/o Aquarius\".format((np.mean(clib_dict['ecmp'][1]) - np.mean(clib_dict['maglev'][1]))))\n",
    "print(\"avg Additional cycles {:.3f} than w/o Aquarius\".format((np.mean(clib_dict['pcap'][1]) - np.mean(clib_dict['maglev'][1]))))"
   ]
  },
  {
   "cell_type": "code",
   "execution_count": 227,
   "metadata": {},
   "outputs": [],
   "source": [
    "fig.savefig('../../data/figures/atc/application/classification/cycle.pdf', transparent=True, bbox_inches='tight')"
   ]
  },
  {
   "cell_type": "markdown",
   "metadata": {},
   "source": [
    "### Compare System Usage"
   ]
  },
  {
   "cell_type": "code",
   "execution_count": 212,
   "metadata": {},
   "outputs": [],
   "source": [
    "def pd_dataframe_from_csv(filename, sep=',', index_col=False, astype=None):\n",
    "    df = pd.read_csv(filename, sep=sep, encoding='utf-8', index_col=index_col)\n",
    "    if astype: df = df.astype(astype)\n",
    "    return df.dropna()\n",
    "\n",
    "data_dir = '../../data/results/atc-overhead'\n",
    "methods = ['maglev', 'ecmp', 'ecmp_all', 'pcap']\n",
    "trace = 'poisson_benchmark'\n",
    "rate = 500\n",
    "folder = '/home/yzy/Load-Balancer/data/results/atc-overhead/poisson_benchmark/'\n",
    "config = 'rate_500-1x-1lb-88core'\n",
    "n_eps = {\n",
    "    'ecmp': [1],\n",
    "    'maglev': [1],\n",
    "    'ecmp_all': [1],\n",
    "    'pcap': [1]\n",
    "}\n",
    "\n",
    "dfs = []\n",
    "data_all = {\n",
    "    method: pd.concat([pd_dataframe_from_csv(os.path.join(folder, method, config, '0_log_ep{}'.format(ep), 'usage.log')) for ep in n_eps[method]]) for method in methods\n",
    "}"
   ]
  },
  {
   "cell_type": "code",
   "execution_count": 228,
   "metadata": {},
   "outputs": [
    {
     "data": {
      "image/png": "[encoded data removed]",
      "text/plain": [
       "<Figure size 672x96 with 2 Axes>"
      ]
     },
     "metadata": {},
     "output_type": "display_data"
    }
   ],
   "source": [
    "cpu_scale = 1\n",
    "mem_scale = 3.94444/100\n",
    "text_x = 350\n",
    "fig, axs = plt.subplots(1, 2, figsize=(7,1), dpi=96, sharex=False, sharey=True)\n",
    "plt.sca(axs[0])\n",
    "# plot with data as the data source\n",
    "for m in methods:\n",
    "    c, marker = COLORS_DICT[m], MARKER_DICT[m]\n",
    "    data = data_all[m]['cpu_usage'].values*cpu_scale\n",
    "    data = np.array([v for v in data_all[m]['cpu_usage'].values if v > 18.5]) * cpu_scale\n",
    "    percentiles = [np.percentile(data, p) for p in range(0, 110, 10)]\n",
    "    plt.plot(np.sort(data), np.linspace(0, 1, len(data), endpoint=False), color=c)\n",
    "    plt.plot(percentiles, np.linspace(0, 1, 11, endpoint=True), marker, color=c)\n",
    "    plt.plot(0, -1, '-{}'.format(marker), color=c, label=METHOD_MAPPER[m])\n",
    "plt.legend(bbox_to_anchor=(0., 1.05, 2.2, .102), loc='lower left',\n",
    "           ncol=4, mode=\"expand\", borderaxespad=0.)\n",
    "# plt.grid()\n",
    "plt.ylabel(\"CDF\")\n",
    "plt.xlabel(\"CPU Usage (%)\")\n",
    "plt.xlim(np.array([20, 61])*cpu_scale)\n",
    "# plt.xlim(np.array([24.5, 42])*cpu_scale)\n",
    "\n",
    "# plt.xticks([600, 1000, 2000, 4000], ['', '', '', ''])\n",
    "\n",
    "plt.sca(axs[1])\n",
    "# plot with data as the data source\n",
    "for m in methods:\n",
    "    c, marker = COLORS_DICT[m], MARKER_DICT[m]\n",
    "    if m in ['pcap']:\n",
    "        data = np.array([v+33.6 for v in data_all[m]['used_ram'].values if v < 66.4]) * mem_scale\n",
    "    else:\n",
    "        data = np.array([v for v in data_all[m]['used_ram'].values]) * mem_scale\n",
    "    percentiles = [np.percentile(data, p) for p in range(0, 110, 10)]\n",
    "    plt.plot(np.sort(data), np.linspace(0, 1, len(data), endpoint=False), color=c)\n",
    "    plt.plot(percentiles, np.linspace(0, 1, 11, endpoint=True), marker, color=c)\n",
    "    plt.plot(0, -1, '-{}'.format(marker), color=c, label=METHOD_MAPPER[m])\n",
    "\n",
    "plt.ylabel(\"CDF\")\n",
    "plt.xlabel('Used RAM (GiB)')\n",
    "# plt.grid()\n",
    "# plt.xlim(np.array([66.5, 71])*mem_scale)\n",
    "plt.xlim(np.array([66.5, 100])*mem_scale)\n",
    "plt.xticks([2.75, 3, 3.25, 3.5, 3.75])\n",
    "plt.ylim([0, 1])\n",
    "plt.show()"
   ]
  },
  {
   "cell_type": "code",
   "execution_count": 229,
   "metadata": {},
   "outputs": [],
   "source": [
    "fig.savefig('../../data/figures/atc/application/classification/system.pdf', transparent=True, bbox_inches='tight')"
   ]
  },
  {
   "cell_type": "code",
   "execution_count": 244,
   "metadata": {},
   "outputs": [
    {
     "name": "stdout",
     "output_type": "stream",
     "text": [
      "Median Additional CPU usage 49.716 1.675x than w/o Aquarius 29.687\n",
      "Median Additional RAM usage 2743.590/2652.203 = 1.034%\n"
     ]
    }
   ],
   "source": [
    "print(\"Median Additional CPU usage {:.3f} {:.3f}x than w/o Aquarius {:.3f}\".format(np.mean(data_all['ecmp_all']['cpu_usage'].values*cpu_scale), (np.mean(data_all['ecmp_all']['cpu_usage'].values*cpu_scale) / np.mean(data_all['maglev']['cpu_usage'].values*cpu_scale)), np.mean(data_all['maglev']['cpu_usage'].values*cpu_scale)))\n",
    "print(\"Median Additional RAM usage {:.3f}/{:.3f} = {:.3f}%\".format(np.mean(data_all['ecmp_all']['used_ram'].values*mem_scale)*1000, np.mean(data_all['maglev']['used_ram'].values*mem_scale)*1000, (np.mean(data_all['ecmp_all']['used_ram'].values*mem_scale) / np.mean(data_all['maglev']['used_ram'].values*mem_scale))))"
   ]
  },
  {
   "cell_type": "code",
   "execution_count": 245,
   "metadata": {},
   "outputs": [
    {
     "name": "stdout",
     "output_type": "stream",
     "text": [
      "Median Additional CPU usage 40.858 1.376x than w/o Aquarius 29.687\n",
      "Median Additional RAM usage 2718.966/2652.203 = 1.025%\n"
     ]
    }
   ],
   "source": [
    "print(\"Median Additional CPU usage {:.3f} {:.3f}x than w/o Aquarius {:.3f}\".format(np.mean(data_all['ecmp']['cpu_usage'].values*cpu_scale), (np.mean(data_all['ecmp']['cpu_usage'].values*cpu_scale) / np.mean(data_all['maglev']['cpu_usage'].values*cpu_scale)), np.mean(data_all['maglev']['cpu_usage'].values*cpu_scale)))\n",
    "print(\"Median Additional RAM usage {:.3f}/{:.3f} = {:.3f}%\".format(np.mean(data_all['ecmp']['used_ram'].values*mem_scale)*1000, np.mean(data_all['maglev']['used_ram'].values*mem_scale)*1000, (np.mean(data_all['ecmp']['used_ram'].values*mem_scale) / np.mean(data_all['maglev']['used_ram'].values*mem_scale))))"
   ]
  },
  {
   "cell_type": "code",
   "execution_count": 250,
   "metadata": {},
   "outputs": [
    {
     "name": "stdout",
     "output_type": "stream",
     "text": [
      "Median Additional CPU usage 31.480 1.060x than w/o Aquarius 29.687\n",
      "Median Additional RAM usage 3305.149/2652.203 = 1.246%\n"
     ]
    }
   ],
   "source": [
    "print(\"Median Additional CPU usage {:.3f} {:.3f}x than w/o Aquarius {:.3f}\".format(np.mean(data_all['pcap']['cpu_usage'].values*cpu_scale), (np.mean(data_all['pcap']['cpu_usage'].values*cpu_scale) / np.mean(data_all['maglev']['cpu_usage'].values*cpu_scale)), np.mean(data_all['maglev']['cpu_usage'].values*cpu_scale)))\n",
    "print(\"Median Additional RAM usage {:.3f}/{:.3f} = {:.3f}%\".format(np.mean([v+33.6 for v in data_all[m]['used_ram'].values if v < 66.4])*mem_scale*1000, np.mean(data_all['maglev']['used_ram'].values*mem_scale)*1000, (np.mean([v+33.6 for v in data_all['pcap']['used_ram'].values if v < 66.4]) / np.mean(data_all['maglev']['used_ram'].values))))"
   ]
  },
  {
   "cell_type": "code",
   "execution_count": null,
   "metadata": {},
   "outputs": [],
   "source": []
  }
 ],
 "metadata": {
  "kernelspec": {
   "display_name": "Python3 (lb)",
   "language": "python",
   "name": "lb"
  },
  "language_info": {
   "codemirror_mode": {
    "name": "ipython",
    "version": 3
   },
   "file_extension": ".py",
   "mimetype": "text/x-python",
   "name": "python",
   "nbconvert_exporter": "python",
   "pygments_lexer": "ipython3",
   "version": "3.7.4"
  },
  "latex_envs": {
   "LaTeX_envs_menu_present": true,
   "autoclose": true,
   "autocomplete": true,
   "bibliofile": "biblio.bib",
   "cite_by": "apalike",
   "current_citInitial": 1,
   "eqLabelWithNumbers": true,
   "eqNumInitial": 1,
   "hotkeys": {
    "equation": "Ctrl-E",
    "itemize": "Ctrl-I"
   },
   "labels_anchors": false,
   "latex_user_defs": false,
   "report_style_numbering": false,
   "user_envs_cfg": false
  },
  "toc": {
   "base_numbering": 1,
   "nav_menu": {},
   "number_sections": true,
   "sideBar": true,
   "skip_h1_title": false,
   "title_cell": "Table of Contents",
   "title_sidebar": "Contents",
   "toc_cell": true,
   "toc_position": {
    "height": "calc(100% - 180px)",
    "left": "10px",
    "top": "150px",
    "width": "275.646px"
   },
   "toc_section_display": true,
   "toc_window_display": true
  }
 },
 "nbformat": 4,
 "nbformat_minor": 2
}
