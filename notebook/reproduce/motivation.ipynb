{
 "cells": [
  {
   "cell_type": "markdown",
   "metadata": {
    "toc": true
   },
   "source": [
    "<h1>Table of Contents<span class=\"tocSkip\"></span></h1>\n",
    "<div class=\"toc\"><ul class=\"toc-item\"><li><span><a href=\"#TL;DR\" data-toc-modified-id=\"TL;DR-1\"><span class=\"toc-item-num\">1&nbsp;&nbsp;</span>TL;DR</a></span></li><li><span><a href=\"#Import-libs\" data-toc-modified-id=\"Import-libs-2\"><span class=\"toc-item-num\">2&nbsp;&nbsp;</span>Import libs</a></span></li><li><span><a href=\"#Step-by-step\" data-toc-modified-id=\"Step-by-step-3\"><span class=\"toc-item-num\">3&nbsp;&nbsp;</span>Step-by-step</a></span><ul class=\"toc-item\"><li><span><a href=\"#Debug\" data-toc-modified-id=\"Debug-3.1\"><span class=\"toc-item-num\">3.1&nbsp;&nbsp;</span>Debug</a></span></li><li><span><a href=\"#Run\" data-toc-modified-id=\"Run-3.2\"><span class=\"toc-item-num\">3.2&nbsp;&nbsp;</span>Run</a></span></li></ul></li><li><span><a href=\"#Pipeline\" data-toc-modified-id=\"Pipeline-4\"><span class=\"toc-item-num\">4&nbsp;&nbsp;</span>Pipeline</a></span><ul class=\"toc-item\"><li><span><a href=\"#Traffic-poisson_exp_compute_2e6\" data-toc-modified-id=\"Traffic-poisson_exp_compute_2e6-4.1\"><span class=\"toc-item-num\">4.1&nbsp;&nbsp;</span>Traffic poisson_exp_compute_2e6</a></span><ul class=\"toc-item\"><li><span><a href=\"#Choose-samples-for-1lb\" data-toc-modified-id=\"Choose-samples-for-1lb-4.1.1\"><span class=\"toc-item-num\">4.1.1&nbsp;&nbsp;</span>Choose samples for 1lb</a></span></li></ul></li><li><span><a href=\"#Run-heuristics\" data-toc-modified-id=\"Run-heuristics-4.2\"><span class=\"toc-item-num\">4.2&nbsp;&nbsp;</span>Run heuristics</a></span></li><li><span><a href=\"#Run-maglev\" data-toc-modified-id=\"Run-maglev-4.3\"><span class=\"toc-item-num\">4.3&nbsp;&nbsp;</span>Run maglev</a></span></li><li><span><a href=\"#Run-nf-llf\" data-toc-modified-id=\"Run-nf-llf-4.4\"><span class=\"toc-item-num\">4.4&nbsp;&nbsp;</span>Run nf-llf</a></span></li><li><span><a href=\"#Run-nf-po2\" data-toc-modified-id=\"Run-nf-po2-4.5\"><span class=\"toc-item-num\">4.5&nbsp;&nbsp;</span>Run nf-po2</a></span></li><li><span><a href=\"#Run-weighted\" data-toc-modified-id=\"Run-weighted-4.6\"><span class=\"toc-item-num\">4.6&nbsp;&nbsp;</span>Run weighted</a></span></li></ul></li></ul></div>"
   ]
  },
  {
   "cell_type": "markdown",
   "metadata": {},
   "source": [
    "# TL;DR\n",
    "This notebook is used to do unit test for each candidate load balancing method implemented for testbed.\n",
    "\n",
    "Experiment setup:\n",
    "- 1 lb\n",
    "- 12 as\n",
    "- poisson_lognormal trace\n",
    "- [110, 112, 114, 116, 118, 120] traffic rate\n",
    "- 4 as w/ colocated workload \n",
    "\n",
    "Candidate methods:\n",
    "- Maglev (ECMP)\n",
    "- Static-ws (WCMP)\n",
    "- NF-LLF (LSQ)\n",
    "- NF-PO2 (LSQ2)\n",
    "- Heuristic-ada"
   ]
  },
  {
   "cell_type": "markdown",
   "metadata": {},
   "source": [
    "# Import libs"
   ]
  },
  {
   "cell_type": "code",
   "execution_count": 1,
   "metadata": {
    "scrolled": true
   },
   "outputs": [],
   "source": [
    "import sys\n",
    "import os\n",
    "utils_dir = '../../src/utils'\n",
    "sys.path.insert(0, utils_dir) # add utils dir to path\n",
    "import testbed_utils as tu\n",
    "import time"
   ]
  },
  {
   "cell_type": "markdown",
   "metadata": {},
   "source": [
    "# Step-by-step"
   ]
  },
  {
   "cell_type": "markdown",
   "metadata": {},
   "source": [
    "## Debug"
   ]
  },
  {
   "cell_type": "code",
   "execution_count": 2,
   "metadata": {},
   "outputs": [],
   "source": [
    "tu.umount_image()"
   ]
  },
  {
   "cell_type": "code",
   "execution_count": 7,
   "metadata": {},
   "outputs": [],
   "source": [
    "tu.umount_image()\n",
    "# mount base image\n",
    "tu.mount_new_image(tu.CONF['global']['path']['orig_img'], tu.CONF['global']['path']['base_img'])"
   ]
  },
  {
   "cell_type": "code",
   "execution_count": 81,
   "metadata": {},
   "outputs": [
    {
     "name": "stdout",
     "output_type": "stream",
     "text": [
      "sudo modprobe nbd max_part=8;    sudo qemu-nbd --connect=/dev/nbd0 /home/yzy/Load-Balancer/data/img/lb-vpp-base.img;    sudo mount -o loop /dev/nbd0p1 /mnt/loop;    \n",
      "\n"
     ]
    }
   ],
   "source": [
    "img = tu.CONF['global']['path']['base_img']\n",
    "cmd = \"sudo modprobe nbd max_part=8;\\\n",
    "    sudo qemu-nbd --connect=/dev/nbd0 {};\\\n",
    "    sudo mount -o loop /dev/nbd0p1 {};\\\n",
    "    \\n\".format(img, tu.LOOP_DIR)\n",
    "print(cmd)"
   ]
  },
  {
   "cell_type": "code",
   "execution_count": 84,
   "metadata": {},
   "outputs": [
    {
     "name": "stdout",
     "output_type": "stream",
     "text": [
      "sudo chown 1000:1000 /mnt/loop/home/cisco/*;        sudo umount /mnt/loop/;        sudo qemu-nbd --disconnect /dev/nbd0;\n",
      "\n"
     ]
    }
   ],
   "source": [
    "cmd = \"sudo chown 1000:1000 {0}/home/cisco/*;\\\n",
    "        sudo umount {0}/;\\\n",
    "        sudo qemu-nbd --disconnect /dev/nbd0;\\n\".format(tu.LOOP_DIR)\n",
    "print(cmd)"
   ]
  },
  {
   "cell_type": "markdown",
   "metadata": {},
   "source": [
    "## Unit test"
   ]
  },
  {
   "cell_type": "code",
   "execution_count": 668,
   "metadata": {},
   "outputs": [],
   "source": [
    "lb_method = 'ecmp'\n",
    "trace='poisson_benchmark_2'\n",
    "experiment='atc-motivation'\n",
    "sample='rate_300.csv'\n",
    "from_orig=None\n",
    "config_file_prefix='1x-1lb-88core-motiv'\n",
    "colocate=None\n",
    "colocate_freq=0.0001\n",
    "twist=False\n",
    "clip_n=10000"
   ]
  },
  {
   "cell_type": "code",
   "execution_count": 669,
   "metadata": {},
   "outputs": [
    {
     "name": "stdout",
     "output_type": "stream",
     "text": [
      "init_task_info: alias=1x-1lb-88core-motiv\n",
      "alias=1x-1lb-88core-motiv\n",
      ">> run task poisson_benchmark_2-ecmp-rate_300-1x-1lb-88core-motiv\n"
     ]
    }
   ],
   "source": [
    "server_id = 1\n",
    "if twist:\n",
    "    config_file_prefix += '-twist'\n",
    "config_file = config_file_prefix+'-'+str(server_id)\n",
    "config_file_remote = {i: config_file_prefix+'-{}'.format(i) for i in [0, 2, 3]}\n",
    "ip_remote = tu.COMMON_CONF['net']['physical_server_ip']\n",
    "\n",
    "\n",
    "task_name, task_dir, nodes = tu.init_task_info(\n",
    "    experiment=experiment,\n",
    "    lb_method=lb_method,\n",
    "    trace=trace,\n",
    "    sample=sample,\n",
    "    filename=config_file+'.json',\n",
    "    colocate=colocate,\n",
    "    colocate_freq=colocate_freq,\n",
    "    alias=config_file_prefix\n",
    ")\n",
    "\n",
    "print(\">> run task {}\".format(task_name))"
   ]
  },
  {
   "cell_type": "code",
   "execution_count": 677,
   "metadata": {
    "scrolled": true
   },
   "outputs": [],
   "source": [
    "for server_id in [0, 2, 3]:\n",
    "    if clip_n and server_id == 0:\n",
    "        clip_str = '-n {}'.format(clip_n)\n",
    "    else:\n",
    "        clip_str = ''\n",
    "    \n",
    "    cmd = 'ssh -t yzy@{} \"python3 /home/yzy/Load-Balancer/src/utils/run2server.py --experiment {} --colocate-freq {} -m {} --tr {} --sample {} -f {}.json {}\"'.format(\n",
    "        ip_remote[server_id], experiment, colocate_freq, lb_method, trace, sample, config_file_remote[server_id], clip_str)\n",
    "#     print(cmd)\n",
    "    tu.subprocess.Popen(cmd, shell=True)"
   ]
  },
  {
   "cell_type": "code",
   "execution_count": 673,
   "metadata": {
    "scrolled": true
   },
   "outputs": [
    {
     "name": "stdout",
     "output_type": "stream",
     "text": [
      "Create LB node image...\n"
     ]
    }
   ],
   "source": [
    "tu.prepare_img(lb_method=lb_method, from_orig=from_orig, debug_node=False)"
   ]
  },
  {
   "cell_type": "code",
   "execution_count": 674,
   "metadata": {
    "scrolled": true
   },
   "outputs": [
    {
     "name": "stdout",
     "output_type": "stream",
     "text": [
      "node_lb_0 ready: ssh -p 8900 cisco@localhost\n",
      "node_server_18 ready: ssh -p 9018 cisco@localhost\n",
      "node_server_19 ready: ssh -p 9019 cisco@localhost\n",
      "node_server_20 ready: ssh -p 9020 cisco@localhost\n",
      "node_server_21 ready: ssh -p 9021 cisco@localhost\n",
      "node_server_22 ready: ssh -p 9022 cisco@localhost\n",
      "node_server_23 ready: ssh -p 9023 cisco@localhost\n",
      "node_server_24 ready: ssh -p 9024 cisco@localhost\n",
      "node_server_25 ready: ssh -p 9025 cisco@localhost\n",
      "node_server_26 ready: ssh -p 9026 cisco@localhost\n",
      "node_server_27 ready: ssh -p 9027 cisco@localhost\n",
      "node_server_28 ready: ssh -p 9028 cisco@localhost\n",
      "node_server_29 ready: ssh -p 9029 cisco@localhost\n",
      "node_server_30 ready: ssh -p 9030 cisco@localhost\n",
      "node_server_31 ready: ssh -p 9031 cisco@localhost\n",
      "node_server_32 ready: ssh -p 9032 cisco@localhost\n",
      "node_server_33 ready: ssh -p 9033 cisco@localhost\n",
      "node_server_34 ready: ssh -p 9034 cisco@localhost\n",
      "node_server_35 ready: ssh -p 9035 cisco@localhost\n",
      "node_server_36 ready: ssh -p 9036 cisco@localhost\n",
      "node_server_37 ready: ssh -p 9037 cisco@localhost\n",
      "node_server_38 ready: ssh -p 9038 cisco@localhost\n",
      "node_server_39 ready: ssh -p 9039 cisco@localhost\n"
     ]
    }
   ],
   "source": [
    "tu.runall()\n",
    "time.sleep(10)"
   ]
  },
  {
   "cell_type": "code",
   "execution_count": 679,
   "metadata": {
    "scrolled": true
   },
   "outputs": [
    {
     "name": "stdout",
     "output_type": "stream",
     "text": [
      "LB Node 0: pass\n"
     ]
    }
   ],
   "source": [
    "net_ok = False\n",
    "while not net_ok:\n",
    "    try:\n",
    "        tu.gt_socket_check()\n",
    "        net_ok = True\n",
    "    except:\n",
    "        print('error')\n",
    "        time.sleep(1)"
   ]
  },
  {
   "cell_type": "code",
   "execution_count": null,
   "metadata": {},
   "outputs": [],
   "source": []
  },
  {
   "cell_type": "code",
   "execution_count": null,
   "metadata": {},
   "outputs": [
    {
     "name": "stdout",
     "output_type": "stream",
     "text": [
      "=== Working on 88 server case ===\n"
     ]
    }
   ],
   "source": [
    "traffic_rate = 300\n",
    "# for n_server in [88, 84, 72, 60, 48, 36, 24, 12]:\n",
    "for n_server in [88]:\n",
    "    print(\"=== Working on {} server case ===\".format(n_server))\n",
    "    cmd = 'ssh -t -p 8900 cisco@localhost \"echo {:d} > n_log.txt\"'.format(n_server)\n",
    "    tu.subprocess_cmd(cmd)\n",
    "    # start gathering at LB node\n",
    "    for lb in tu.NODES['lb']:\n",
    "        lb.run_init_bg()\n",
    "    # run traffic\n",
    "    t0 = time.time()\n",
    "    cmd = 'ssh -t yzy@10.60.16.12 \"python3 /home/yzy/Load-Balancer/src/utils/run_traffic.py --experiment {} --colocate-freq {} -m {} --tr {} --sample {} -f {}.json\"'.format(\n",
    "        experiment, colocate_freq, lb_method, trace, sample, config_file_remote[0])\n",
    "    \n",
    "    tu.subprocess_cmd(cmd)\n",
    "    print(\"Trace replay over w/ total time: {:.3f}s\".format(time.time()-t0))\n",
    "\n",
    "    cmd = 'ssh -t -p 8900 cisco@localhost \"sudo pkill -9 python; mv log log_{0:d}server_{1:d}rate; mkdir log\"'.format(n_server, traffic_rate)\n",
    "    tu.subprocess_cmd(cmd)"
   ]
  },
  {
   "cell_type": "code",
   "execution_count": 919,
   "metadata": {
    "scrolled": false
   },
   "outputs": [
    {
     "name": "stdout",
     "output_type": "stream",
     "text": [
      "ssh -t yzy@10.60.16.12 \"python3 /home/yzy/Load-Balancer/src/utils/shutdown2server.py --experiment atc-motivation --colocate-freq 0.0001 -m ecmp --tr poisson_benchmark_2 --sample rate_300.csv -f 1x-1lb-88core-motiv-0.json --episode 1\" --shutdown\n",
      "ssh -t yzy@10.60.16.15 \"python3 /home/yzy/Load-Balancer/src/utils/shutdown2server.py --experiment atc-motivation --colocate-freq 0.0001 -m ecmp --tr poisson_benchmark_2 --sample rate_300.csv -f 1x-1lb-88core-motiv-2.json --episode 1\"\n",
      "ssh -t yzy@10.60.16.16 \"python3 /home/yzy/Load-Balancer/src/utils/shutdown2server.py --experiment atc-motivation --colocate-freq 0.0001 -m ecmp --tr poisson_benchmark_2 --sample rate_300.csv -f 1x-1lb-88core-motiv-3.json --episode 1\"\n"
     ]
    }
   ],
   "source": [
    "# fetch results from nodes\n",
    "    for server_id in [0, 2, 3]:\n",
    "    cmd = 'ssh -t yzy@{} \"python3 /home/yzy/Load-Balancer/src/utils/shutdown2server.py --experiment {} --colocate-freq {} -m {} --tr {} --sample {} -f {}.json --episode {}\"'.format(\n",
    "        ip_remote[server_id], experiment, colocate_freq, lb_method, trace, sample, config_file_remote[server_id], 1)\n",
    "    if server_id == 0:\n",
    "        cmd += ' --shutdown'\n",
    "#     tu.subprocess.Popen(cmd, shell=True)\n",
    "    print(cmd)"
   ]
  },
  {
   "cell_type": "code",
   "execution_count": 1,
   "metadata": {},
   "outputs": [
    {
     "ename": "NameError",
     "evalue": "name 'tu' is not defined",
     "output_type": "error",
     "traceback": [
      "\u001b[0;31m---------------------------------------------------------------------------\u001b[0m",
      "\u001b[0;31mNameError\u001b[0m                                 Traceback (most recent call last)",
      "\u001b[0;32m<ipython-input-1-f06ea07afc04>\u001b[0m in \u001b[0;36m<module>\u001b[0;34m\u001b[0m\n\u001b[0;32m----> 1\u001b[0;31m \u001b[0mtu\u001b[0m\u001b[0;34m.\u001b[0m\u001b[0mNODES\u001b[0m\u001b[0;34m[\u001b[0m\u001b[0;34m'lb'\u001b[0m\u001b[0;34m]\u001b[0m\u001b[0;34m.\u001b[0m\u001b[0mrun\u001b[0m\u001b[0;34m(\u001b[0m\u001b[0;34m)\u001b[0m\u001b[0;34m\u001b[0m\u001b[0;34m\u001b[0m\u001b[0m\n\u001b[0m",
      "\u001b[0;31mNameError\u001b[0m: name 'tu' is not defined"
     ]
    }
   ],
   "source": [
    "tu.NODES['lb'].run()"
   ]
  },
  {
   "cell_type": "code",
   "execution_count": 898,
   "metadata": {},
   "outputs": [],
   "source": [
    "tu.shutall()"
   ]
  },
  {
   "cell_type": "markdown",
   "metadata": {},
   "source": [
    "# Plot"
   ]
  },
  {
   "cell_type": "code",
   "execution_count": 252,
   "metadata": {},
   "outputs": [],
   "source": [
    "import numpy as np\n",
    "import pandas as pd\n",
    "import matplotlib.pyplot as plt"
   ]
  },
  {
   "cell_type": "code",
   "execution_count": 181,
   "metadata": {},
   "outputs": [],
   "source": [
    "def read_file(filename):\n",
    "    lines = []\n",
    "    with open (filename, \"r\") as myfile:\n",
    "        lines = [line.rstrip('\\n') for line in myfile]\n",
    "    return lines\n",
    "\n",
    "def parse_lb_log(filename, warmup=0.05, cooldown=0.05):\n",
    "    lb_log = read_file(filename)\n",
    "    lb_log_dict = {\n",
    "        'step': [],\n",
    "        'ts': [],\n",
    "        'latency': [],\n",
    "        '#apache': [],\n",
    "        'cpu': [],\n",
    "    }\n",
    "    for l in lb_log:\n",
    "        if 'Step' in l:\n",
    "            step, ts = l.strip(' ').lstrip(\"Step: \").strip('s)').split(' (Time: ')\n",
    "            lb_log_dict['step'].append(int(step))\n",
    "            lb_log_dict['ts'].append(float(ts))\n",
    "        elif 'latency' in l:\n",
    "            lb_log_dict['latency'].append(float(l.split(': ')[-1].split('s')[0]))\n",
    "        elif '#apache' in l:\n",
    "            lb_log_dict['#apache'].append([int(i) for i in l.split(':')[-1].split('|')])\n",
    "        elif 'cpu' in l:\n",
    "            lb_log_dict['cpu'].append([float(i) for i in l.split(':')[-1].split('|')])\n",
    "        else:\n",
    "            continue\n",
    "    for k, v in lb_log_dict.items():\n",
    "        length = len(v)\n",
    "        lb_log_dict[k] = v[int(warmup*length):int((1-cooldown)*length)]\n",
    "    return lb_log_dict\n",
    "\n",
    "def parse_usage_log(filename, warmup=0.05, cooldown=0.05):\n",
    "    usage_log = read_file(os.path.join(log_folder, 'usage.log'))\n",
    "    usage_log_dict = {\n",
    "        'ts': [],\n",
    "        'cpu': [],\n",
    "        'used_ram': [],\n",
    "        'avail_ram': []\n",
    "    }\n",
    "    for l in usage_log[1:]:\n",
    "        elements = l.split(',')\n",
    "        if len(elements) != 4: continue\n",
    "        ts, cpu, used, avail = elements\n",
    "        usage_log_dict['ts'].append(float(ts))\n",
    "        usage_log_dict['cpu'].append(float(cpu))\n",
    "        usage_log_dict['used_ram'].append(float(used))\n",
    "        usage_log_dict['avail_ram'].append(float(avail))\n",
    "    for k, v in usage_log_dict.items():\n",
    "        length = len(v)\n",
    "        usage_log_dict[k] = v[int(warmup*length):int((1-cooldown)*length)]\n",
    "    return usage_log_dict"
   ]
  },
  {
   "cell_type": "markdown",
   "metadata": {},
   "source": [
    "## Plot latency"
   ]
  },
  {
   "cell_type": "code",
   "execution_count": 348,
   "metadata": {},
   "outputs": [],
   "source": [
    "import numpy as np\n",
    "import matplotlib.pyplot as plt\n",
    "import scipy.stats as stats\n",
    "\n",
    "def plot_linear_regression(x, y): \n",
    "\n",
    "    slope, intercept = np.polyfit(x, y, 1)  # linear model adjustment\n",
    "\n",
    "    y_model = np.polyval([slope, intercept], x)   # modeling...\n",
    "\n",
    "    x_mean = np.mean(x)\n",
    "    y_mean = np.mean(y)\n",
    "    n = x.size                        # number of samples\n",
    "    m = 2                             # number of parameters\n",
    "    dof = n - m                       # degrees of freedom\n",
    "    t = stats.t.ppf(0.975, dof)       # Students statistic of interval confidence\n",
    "\n",
    "    residual = y - y_model\n",
    "\n",
    "    std_error = (np.sum(residual**2) / dof)**.5   # Standard deviation of the error\n",
    "\n",
    "    # calculating the r2\n",
    "    # https://www.statisticshowto.com/probability-and-statistics/coefficient-of-determination-r-squared/\n",
    "    # Pearson's correlation coefficient\n",
    "    numerator = np.sum((x - x_mean)*(y - y_mean))\n",
    "    denominator = ( np.sum((x - x_mean)**2) * np.sum((y - y_mean)**2) )**.5\n",
    "    correlation_coef = numerator / denominator\n",
    "    r2 = correlation_coef**2\n",
    "\n",
    "    # mean squared error\n",
    "    MSE = 1/n * np.sum( (y - y_model)**2 )\n",
    "\n",
    "    # to plot the adjusted model\n",
    "    x_line = np.linspace(np.min(x), np.max(x), 100)\n",
    "    y_line = np.polyval([slope, intercept], x_line)\n",
    "\n",
    "    # confidence interval\n",
    "    ci = t * std_error * (1/n + (x_line - x_mean)**2 / np.sum((x - x_mean)**2))**.5\n",
    "    # predicting interval\n",
    "    pi = t * std_error * (1 + 1/n + (x_line - x_mean)**2 / np.sum((x - x_mean)**2))**.5  \n",
    "\n",
    "    ############### Ploting\n",
    "    plt.rcParams.update({'font.size': 14})\n",
    "    fig = plt.figure(figsize=(8,4), dpi=96)\n",
    "    ax = fig.add_axes([.1, .1, .8, .8])\n",
    "\n",
    "    ax.plot(x, y, 'o', color = 'royalblue', alpha=0.01)\n",
    "    ax.plot(x_line, y_line, color = 'royalblue')\n",
    "\n",
    "    ax.fill_between(x_line, y_line + pi, y_line - pi, color = 'lightcyan', alpha=0.3, label = '95% prediction interval')\n",
    "\n",
    "    ax.set_xlabel(r'$x$: Number of servers')\n",
    "    ax.set_ylabel(r'$y$: Latency ($\\mu$s)')\n",
    "\n",
    "    ax.fill_between(x_line, y_line + ci, y_line - ci, color = 'skyblue', label = '95% confidence interval')\n",
    "\n",
    "\n",
    "    # rounding and position must be changed for each case and preference\n",
    "    a = str(np.round(intercept))\n",
    "    b = str(np.round(slope,2))\n",
    "    r2s = str(np.round(r2,2))\n",
    "    MSEs = str(np.round(MSE))\n",
    "\n",
    "    yticks = np.arange(-1.75, -3.6, -0.25)\n",
    "    plt.yticks(yticks, ['{:4.0f}'.format(i*1e6) for i in np.power(10, yticks)])\n",
    "\n",
    "    ax.text(13, -1.8, '$\\log_{10}y = ' + '{} + {}x$'.format(a, b))\n",
    "    ax.text(13, -2, '$r^2$ = ' + r2s + '     MSE = ' + MSEs)\n",
    "    plt.legend(bbox_to_anchor=(1, .25), fontsize=12)\n",
    "    plt.show()\n",
    "    \n",
    "    return fig"
   ]
  },
  {
   "cell_type": "code",
   "execution_count": 920,
   "metadata": {},
   "outputs": [],
   "source": [
    "def plot_linear_regression_compare(x1, y1, x2, y2): \n",
    "\n",
    "    def derive_model(x,y):\n",
    "        slope, intercept = np.polyfit(x, y, 1)  # linear model adjustment\n",
    "\n",
    "        y_model = np.polyval([slope, intercept], x)   # modeling...\n",
    "\n",
    "        x_mean = np.mean(x)\n",
    "        y_mean = np.mean(y)\n",
    "        n = x.size                        # number of samples\n",
    "        m = 2                             # number of parameters\n",
    "        dof = n - m                       # degrees of freedom\n",
    "        t = stats.t.ppf(0.975, dof)       # Students statistic of interval confidence\n",
    "\n",
    "        residual = y - y_model\n",
    "\n",
    "        std_error = (np.sum(residual**2) / dof)**.5   # Standard deviation of the error\n",
    "\n",
    "        # calculating the r2\n",
    "        # https://www.statisticshowto.com/probability-and-statistics/coefficient-of-determination-r-squared/\n",
    "        # Pearson's correlation coefficient\n",
    "        numerator = np.sum((x - x_mean)*(y - y_mean))\n",
    "        denominator = ( np.sum((x - x_mean)**2) * np.sum((y - y_mean)**2) )**.5\n",
    "        correlation_coef = numerator / denominator\n",
    "        r2 = correlation_coef**2\n",
    "\n",
    "\n",
    "        # to plot the adjusted model\n",
    "        x_line = np.linspace(np.min(x), np.max(x), 100)\n",
    "        y_line = np.polyval([slope, intercept], x_line)\n",
    "\n",
    "        # confidence interval\n",
    "#         ci = t * std_error * (1/n + (x_line - x_mean)**2 / np.sum((x - x_mean)**2))**.5\n",
    "        # predicting interval\n",
    "        pi = t * std_error * (1 + 1/n + (x_line - x_mean)**2 / np.sum((x - x_mean)**2))**.5  \n",
    "        return x_line, y_line, pi, r2\n",
    "\n",
    "\n",
    "    ############### Ploting\n",
    "    fig = plt.figure(figsize=(7,3), dpi=96)\n",
    "    ax = fig.add_axes([.1, .1, .8, .8])\n",
    "\n",
    "\n",
    "    for i, (x, y, linestyle, color, marker_style, label) in enumerate(zip([x1, x2], [y1, y2], ['-', '-.'], ['teal', 'chocolate'], [4, 5], ['No traffic', '$4.8$kpps traffic'])):\n",
    "\n",
    "        x_line, y_line, pi, r2 = derive_model(x, y)\n",
    "        scatter_samples = np.random.choice(range(len(x)), 10000)\n",
    "        ax.scatter(x[scatter_samples], y[scatter_samples], marker=marker_style, color=color, alpha=0.01)\n",
    "        ax.plot(x_line, y_line, linestyle, color=color, label=label)\n",
    "\n",
    "#         ax.plot(x_line, y_line + pi, '--', color=color, alpha=0.5)\n",
    "#         ax.plot(x_line, y_line - pi, '--', color=color, alpha=0.5)\n",
    "        \n",
    "        ax.fill_between(x_line, y_line + pi, y_line - pi, color=color, alpha=0.1)\n",
    "\n",
    "\n",
    "        # rounding and position must be changed for each case and preference\n",
    "        r2s = str(np.round(r2,2))\n",
    "#         ax.text(13, -2+i*0.2, '$r^2$ = ' + r2s)\n",
    "    ax.fill_between([0], [0], [0], color='k', alpha=0.1, label='95% predict interval')\n",
    "\n",
    "\n",
    "    ax.set_xlabel(r'Number of servers')\n",
    "    ax.set_ylabel(r'Latency ($\\mu$s)')\n",
    "\n",
    "    plt.xlim([10, 90])\n",
    "    plt.ylim([-3.7, -1.65])\n",
    "    \n",
    "    yticks = np.arange(-1.75, -3.6, -0.25)\n",
    "    plt.yticks(yticks, ['{:4.0f}'.format(i*1e6) for i in np.power(10, yticks)])\n",
    "\n",
    "    plt.xticks(n_server_list)\n",
    "#     bbox_to_anchor=(0., 1.05, 1., .102), loc='lower left',\n",
    "#            ncol=3, mode=\"expand\", borderaxespad=0.)\n",
    "    plt.legend(fontsize=12, loc='upper left')\n",
    "    plt.grid()\n",
    "    plt.show()\n",
    "    \n",
    "    return fig"
   ]
  },
  {
   "cell_type": "code",
   "execution_count": 921,
   "metadata": {},
   "outputs": [],
   "source": [
    "traffic_rate_list = [0, 300]\n",
    "# traffic_rate_list = [200, 300]\n",
    "n_server_list = [12, 24, 36, 48, 60, 72, 84, 88]\n",
    "# n_server_list = [12, 24, 36, 64, 72, 88]"
   ]
  },
  {
   "cell_type": "code",
   "execution_count": 922,
   "metadata": {},
   "outputs": [],
   "source": [
    "data_dir = '../../data/results/atc-motivation/log'\n",
    "log_fmt = 'log_{}server_{}rate'"
   ]
  },
  {
   "cell_type": "code",
   "execution_count": 923,
   "metadata": {},
   "outputs": [],
   "source": [
    "all_results_dict = {}\n",
    "for traffic_rate in traffic_rate_list:\n",
    "    all_results_dict[traffic_rate] = {}\n",
    "    for n_server in n_server_list:\n",
    "        log_folder = os.path.join(data_dir, log_fmt.format(n_server, traffic_rate))\n",
    "        files = !ls $log_folder\n",
    "        all_results_dict[traffic_rate][n_server] = {\n",
    "            'lb': parse_lb_log(os.path.join(log_folder, 'lb.log')),\n",
    "#             'usage': parse_usage_log(os.path.join(log_folder, 'usage.log'))\n",
    "        }\n",
    "            "
   ]
  },
  {
   "cell_type": "code",
   "execution_count": 924,
   "metadata": {},
   "outputs": [],
   "source": [
    "xs = {}\n",
    "ys = {}\n",
    "for traffic_rate in traffic_rate_list:\n",
    "    xs[traffic_rate] = []\n",
    "    ys[traffic_rate] = []\n",
    "    for n_server in n_server_list:\n",
    "        data = all_results_dict[traffic_rate][n_server]['lb']['latency']\n",
    "        ys[traffic_rate] += data\n",
    "        xs[traffic_rate] += [n_server]*len(data)\n",
    "\n",
    "    xs[traffic_rate] = np.array(xs[traffic_rate])\n",
    "    ys[traffic_rate] = np.log10(np.array(ys[traffic_rate]))"
   ]
  },
  {
   "cell_type": "code",
   "execution_count": 925,
   "metadata": {
    "scrolled": false
   },
   "outputs": [
    {
     "data": {
      "image/png": "[encoded data removed]",
      "text/plain": [
       "<Figure size 672x288 with 1 Axes>"
      ]
     },
     "metadata": {
      "needs_background": "light"
     },
     "output_type": "display_data"
    }
   ],
   "source": [
    "fig = plot_linear_regression_compare(xs[0], ys[0], xs[300], ys[300])\n",
    "fig.savefig('../../data/figures/atc/motivation/compare.pdf'.format(traffic_rate), bbox_inches='tight', transparent=True)"
   ]
  },
  {
   "cell_type": "markdown",
   "metadata": {},
   "source": [
    "# Plot correlation"
   ]
  },
  {
   "cell_type": "code",
   "execution_count": 881,
   "metadata": {},
   "outputs": [],
   "source": [
    "traffic_rate_list = [300]\n",
    "# traffic_rate_list = [200, 300]\n",
    "n_server_list = [64]"
   ]
  },
  {
   "cell_type": "code",
   "execution_count": 882,
   "metadata": {},
   "outputs": [],
   "source": [
    "data_dir = '../../data/results/atc-motivation/log'\n",
    "log_fmt = 'log_{}server_{}rate'"
   ]
  },
  {
   "cell_type": "code",
   "execution_count": 883,
   "metadata": {},
   "outputs": [],
   "source": [
    "traffic_rate = 300\n",
    "n_server = 64\n",
    "log_folder = os.path.join(data_dir, log_fmt.format(n_server, traffic_rate))\n",
    "files = !ls $log_folder\n",
    "corr_data = parse_lb_log(os.path.join(log_folder, 'lb.log'))\n",
    "corr_data['ts'] = np.array(corr_data['ts'])*1000\n",
    "corr_data['ts'] = corr_data['ts'].astype(int)"
   ]
  },
  {
   "cell_type": "code",
   "execution_count": 884,
   "metadata": {},
   "outputs": [],
   "source": [
    "data_dict = {\n",
    "    'dt': [],\n",
    "    'cpu': [],\n",
    "    'apache': []\n",
    "}\n",
    "max_dt_step = 30\n",
    "warmup = 0.1\n",
    "cooldown = 0.1\n",
    "range_lo = int(len(corr_data['ts'])*warmup)\n",
    "range_hi = int(len(corr_data['ts'])*(1-cooldown))\n",
    "cpu_max = np.array(corr_data['cpu']).max()\n",
    "apache_max = np.array(corr_data['#apache']).max()\n",
    "for _ in range(max_dt_step):\n",
    "    for i in range(range_lo+_, range_hi+_, max_dt_step):\n",
    "        for ii in range(1, max_dt_step+1):\n",
    "            for j in range(88-64, 88):\n",
    "                data_dict['dt'].append(corr_data['ts'][i+ii] - corr_data['ts'][i])\n",
    "                data_dict['cpu'].append((corr_data['cpu'][i][j]-corr_data['cpu'][i+ii][j]))\n",
    "                data_dict['apache'].append((corr_data['#apache'][i][j]-corr_data['#apache'][i+ii][j]))"
   ]
  },
  {
   "cell_type": "code",
   "execution_count": 885,
   "metadata": {},
   "outputs": [],
   "source": [
    "import pandas as pd\n",
    "data_df = pd.DataFrame.from_dict(data_dict)"
   ]
  },
  {
   "cell_type": "code",
   "execution_count": 886,
   "metadata": {},
   "outputs": [],
   "source": [
    "data_df['range1'] = pd.cut(data_df.dt, range(50, 2400, 100), include_lowest=True)"
   ]
  },
  {
   "cell_type": "code",
   "execution_count": 887,
   "metadata": {},
   "outputs": [],
   "source": [
    "arr = np.array(range(50, 2400, 100))\n",
    "data_df['range1'] = arr.searchsorted(data_df.dt)-1"
   ]
  },
  {
   "cell_type": "code",
   "execution_count": 890,
   "metadata": {
    "scrolled": false
   },
   "outputs": [
    {
     "data": {
      "image/png": "[encoded data removed]",
      "text/plain": [
       "<Figure size 768x288 with 2 Axes>"
      ]
     },
     "metadata": {
      "needs_background": "light"
     },
     "output_type": "display_data"
    }
   ],
   "source": [
    "fig = plt.figure(figsize=(8,3), dpi=96)\n",
    "ax = fig.add_axes([.1, .1, .8, .8])\n",
    "\n",
    "x = 1000/arr[::-1]\n",
    "cpu_rmse = []\n",
    "# apache_rmse = []\n",
    "for i in np.sort(data_df.range1.unique())[::-1]:\n",
    "    data_ = data_df.loc[data_df.range1 == i]\n",
    "    cpu_rmse.append(np.sqrt(1/len(data_)*np.sum(data_.cpu.values**2))*100)\n",
    "#     apache_rmse.append(np.sqrt(1/len(data_)*np.sum(data_.apache.values**2)))\n",
    "cpu_rmse = np.array(cpu_rmse)\n",
    "# apache_rmse = np.array(apache_rmse)\n",
    "    \n",
    "ax.plot(x, cpu_rmse, color='teal')\n",
    "# ax.plot(x, apache_rmse, color='chocolate', label='#Thread')\n",
    "\n",
    "# ax.plot(x_line, y_line, linestyle, color=color, label=label)\n",
    "\n",
    "# #         ax.plot(x_line, y_line + pi, '--', color=color, alpha=0.5)\n",
    "# #         ax.plot(x_line, y_line - pi, '--', color=color, alpha=0.5)\n",
    "\n",
    "#     ax.fill_between(x_line, y_line + pi, y_line - pi, color=color, alpha=0.1)\n",
    "\n",
    "\n",
    "#     # rounding and position must be changed for each case and preference\n",
    "#     r2s = str(np.round(r2,2))\n",
    "# #         ax.text(13, -2+i*0.2, '$r^2$ = ' + r2s)\n",
    "# ax.fill_between([0], [0], [0], color='k', alpha=0.1, label='95% predict interval')\n",
    "\n",
    "ax.set_ylim([0, 60])\n",
    "# ax.set_yscale('log')\n",
    "ax.set_xlabel('Probing Frequency (/s)')\n",
    "ax.set_ylabel('RMSE\\nCPU Usage (%)', color='teal')\n",
    "# ax.set_yticks(color='teal')\n",
    "\n",
    "ax2 = ax.twinx()\n",
    "\n",
    "ax2.fill_between(x, x*128*69/1000, x*64*69/1000, color='chocolate', alpha=0.2)\n",
    "\n",
    "\n",
    "ax2.set_ylabel('Kbps ($69$-byte packets)\\n$64\\sim128$ servers', color='chocolate')\n",
    "ax2.set_ylim([0, 180])\n",
    "ax2.set_yticks(range(0, 200, 30))\n",
    "\n",
    "plt.xlim([0.5, 20])\n",
    "# plt.ylim([-3.7, -1.65])\n",
    "plt.grid()\n",
    "\n",
    "\n",
    "plt.show()\n",
    "fig.savefig('../../data/figures/atc/motivation/visibility.pdf'.format(traffic_rate), bbox_inches='tight', transparent=True)"
   ]
  },
  {
   "cell_type": "markdown",
   "metadata": {},
   "source": [
    "# Plot Pearson correlation"
   ]
  },
  {
   "cell_type": "code",
   "execution_count": 655,
   "metadata": {},
   "outputs": [],
   "source": [
    "traffic_rate_list = [300]\n",
    "# traffic_rate_list = [200, 300]\n",
    "n_server_list = [64]"
   ]
  },
  {
   "cell_type": "code",
   "execution_count": 656,
   "metadata": {},
   "outputs": [],
   "source": [
    "data_dir = '../../data/results/atc-motivation/log'\n",
    "log_fmt = 'log_{}server_{}rate'"
   ]
  },
  {
   "cell_type": "code",
   "execution_count": 657,
   "metadata": {},
   "outputs": [],
   "source": [
    "traffic_rate = 300\n",
    "n_server = 64\n",
    "log_folder = os.path.join(data_dir, log_fmt.format(n_server, traffic_rate))\n",
    "files = !ls $log_folder\n",
    "corr_data = parse_lb_log(os.path.join(log_folder, 'lb.log'))\n",
    "corr_data['ts'] = np.array(corr_data['ts'])*1000\n",
    "corr_data['ts'] = corr_data['ts'].astype(int)"
   ]
  },
  {
   "cell_type": "code",
   "execution_count": 658,
   "metadata": {},
   "outputs": [],
   "source": [
    "data_dict = {\n",
    "    'dt': [],\n",
    "    'cpu_predict': [],\n",
    "    'cpu_target': [],\n",
    "    'apache_predict': [],\n",
    "    'apache_target': []\n",
    "}\n",
    "max_dt_step = 30\n",
    "warmup = 0.1\n",
    "cooldown = 0.1\n",
    "range_lo = int(len(corr_data['ts'])*warmup)\n",
    "range_hi = int(len(corr_data['ts'])*(1-cooldown))\n",
    "cpu_max = np.array(corr_data['cpu']).max()\n",
    "apache_max = np.array(corr_data['#apache']).max()\n",
    "for _ in range(max_dt_step):\n",
    "    for i in range(range_lo+_, range_hi+_, max_dt_step):\n",
    "        for ii in range(1, max_dt_step+1):\n",
    "            for j in range(88-64, 88):\n",
    "                data_dict['dt'].append(corr_data['ts'][i+ii] - corr_data['ts'][i])\n",
    "                data_dict['cpu_predict'].append(corr_data['cpu'][i][j])\n",
    "                data_dict['cpu_target'].append(corr_data['cpu'][i+ii][j])\n",
    "                data_dict['apache_predict'].append(corr_data['#apache'][i][j])\n",
    "                data_dict['apache_target'].append(corr_data['#apache'][i+ii][j])"
   ]
  },
  {
   "cell_type": "code",
   "execution_count": 659,
   "metadata": {},
   "outputs": [],
   "source": [
    "import pandas as pd\n",
    "data_df = pd.DataFrame.from_dict(data_dict)"
   ]
  },
  {
   "cell_type": "code",
   "execution_count": 660,
   "metadata": {},
   "outputs": [],
   "source": [
    "data_df['range1'] = pd.cut(data_df.dt, range(50, 2400, 100), include_lowest=True)"
   ]
  },
  {
   "cell_type": "code",
   "execution_count": 661,
   "metadata": {},
   "outputs": [],
   "source": [
    "arr = np.array(range(50, 2400, 100))\n",
    "data_df['range1'] = arr.searchsorted(data_df.dt)-1"
   ]
  },
  {
   "cell_type": "code",
   "execution_count": 662,
   "metadata": {},
   "outputs": [],
   "source": [
    "from scipy.stats import pearsonr, spearmanr\n",
    "# calculate Pearson's correlation\n",
    "# corr, _ = pearsonr(data1, data2)\n"
   ]
  },
  {
   "cell_type": "code",
   "execution_count": 667,
   "metadata": {
    "scrolled": false
   },
   "outputs": [
    {
     "data": {
      "image/png": "[encoded data removed]",
      "text/plain": [
       "<Figure size 672x288 with 2 Axes>"
      ]
     },
     "metadata": {},
     "output_type": "display_data"
    }
   ],
   "source": [
    "fig = plt.figure(figsize=(7,3), dpi=96)\n",
    "ax = fig.add_axes([.1, .1, .8, .8])\n",
    "\n",
    "corr_fn = spearmanr\n",
    "\n",
    "x = 1000/arr[::-1]\n",
    "cpu_corr = []\n",
    "apache_corr = []\n",
    "for i in np.sort(data_df.range1.unique())[::-1]:\n",
    "    data_ = data_df.loc[data_df.range1 == i]\n",
    "    corr, _ = corr_fn(data_.cpu_predict, data_.cpu_target)\n",
    "    cpu_corr.append(corr)\n",
    "    corr, _ = corr_fn(data_.apache_predict, data_.apache_target)\n",
    "    apache_corr.append(corr)\n",
    "cpu_corr = np.array(cpu_corr)\n",
    "apache_corr = np.array(apache_corr)\n",
    "    \n",
    "ax.plot(x, cpu_corr, '-', marker='.', color='teal', label='CPU Usage')\n",
    "ax.plot(x, apache_corr, '--', marker='.', color='teal', label='#Thread')\n",
    "# ax.plot(x, apache_rmse, color='chocolate', label='#Thread')\n",
    "ax.fill_between([0], [0], [0], color='chocolate', alpha=0.2, label='Control Message')\n",
    "\n",
    "\n",
    "plt.legend()\n",
    "# ax.plot(x_line, y_line, linestyle, color=color, label=label)\n",
    "\n",
    "# #         ax.plot(x_line, y_line + pi, '--', color=color, alpha=0.5)\n",
    "# #         ax.plot(x_line, y_line - pi, '--', color=color, alpha=0.5)\n",
    "\n",
    "#     ax.fill_between(x_line, y_line + pi, y_line - pi, color=color, alpha=0.1)\n",
    "\n",
    "\n",
    "#     # rounding and position must be changed for each case and preference\n",
    "#     r2s = str(np.round(r2,2))\n",
    "# #         ax.text(13, -2+i*0.2, '$r^2$ = ' + r2s)\n",
    "# ax.fill_between([0], [0], [0], color='k', alpha=0.1, label='95% predict interval')\n",
    "\n",
    "ax.set_ylim([0, 0.9])\n",
    "# ax.set_yscale('log')\n",
    "ax.set_xlabel('Probing Frequency (/s)')\n",
    "ax.set_ylabel('Spearman\\'s Correlation', color='teal')\n",
    "ax.set_yticks(np.arange(0, 1, 0.1))\n",
    "ax.tick_params(axis='y', colors='teal')\n",
    "\n",
    "ax2 = ax.twinx()\n",
    "\n",
    "ax2.fill_between(x, x*128*69/1000, x*64*69/1000, color='chocolate', alpha=0.2)\n",
    "\n",
    "\n",
    "ax2.set_ylabel('Kbps ($69$-byte packets)\\n$64\\sim128$ servers', color='chocolate')\n",
    "ax2.set_ylim([0, 180])\n",
    "ax2.set_yticks(range(0, 200, 20))\n",
    "ax2.tick_params(axis='y', colors='chocolate')\n",
    "plt.xlim([0.5, 20])\n",
    "# plt.ylim([-3.7, -1.65])\n",
    "plt.grid()\n",
    "\n",
    "\n",
    "plt.show()\n",
    "fig.savefig('../../data/figures/atc/motivation/corr.pdf'.format(traffic_rate), bbox_inches='tight', transparent=True)"
   ]
  }
 ],
 "metadata": {
  "kernelspec": {
   "display_name": "Python3 (lb)",
   "language": "python",
   "name": "lb"
  },
  "language_info": {
   "codemirror_mode": {
    "name": "ipython",
    "version": 3
   },
   "file_extension": ".py",
   "mimetype": "text/x-python",
   "name": "python",
   "nbconvert_exporter": "python",
   "pygments_lexer": "ipython3",
   "version": "3.7.4"
  },
  "latex_envs": {
   "LaTeX_envs_menu_present": true,
   "autoclose": true,
   "autocomplete": true,
   "bibliofile": "biblio.bib",
   "cite_by": "apalike",
   "current_citInitial": 1,
   "eqLabelWithNumbers": true,
   "eqNumInitial": 1,
   "hotkeys": {
    "equation": "Ctrl-E",
    "itemize": "Ctrl-I"
   },
   "labels_anchors": false,
   "latex_user_defs": false,
   "report_style_numbering": false,
   "user_envs_cfg": false
  },
  "toc": {
   "base_numbering": 1,
   "nav_menu": {},
   "number_sections": true,
   "sideBar": true,
   "skip_h1_title": false,
   "title_cell": "Table of Contents",
   "title_sidebar": "Contents",
   "toc_cell": true,
   "toc_position": {
    "height": "calc(100% - 180px)",
    "left": "10px",
    "top": "150px",
    "width": "275.646px"
   },
   "toc_section_display": true,
   "toc_window_display": true
  }
 },
 "nbformat": 4,
 "nbformat_minor": 2
}
